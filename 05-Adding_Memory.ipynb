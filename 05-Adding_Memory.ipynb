{
 "cells": [
  {
   "cell_type": "markdown",
   "id": "01a8b5c0-87cb-4302-8e3c-dc809d0039fb",
   "metadata": {},
   "source": [
    "# Understanding Memory in LLMs"
   ]
  },
  {
   "cell_type": "markdown",
   "id": "a2f73380-6395-4e9f-9c83-3f47a5d7e292",
   "metadata": {},
   "source": [
    "In the previous Notebooks, we successfully explored how OpenAI models can enhance the results from Azure AI Search queries. \n",
    "\n",
    "However, we have yet to discover how to engage in a conversation with the LLM. With [Microsoft Copilot](http://chat.bing.com/), for example, this is possible, as it can understand and reference the previous responses.\n",
    "\n",
    "There is a common misconception that LLMs (Large Language Models) have memory. This is not true. While they possess knowledge, they do not retain information from previous questions asked to them.\n",
    "\n",
    "In this Notebook, our goal is to illustrate how we can effectively \"endow the LLM with memory\" by employing prompts and context."
   ]
  },
  {
   "cell_type": "code",
   "execution_count": 1,
   "id": "733c782e-204c-47d0-8dae-c9df7091ab23",
   "metadata": {
    "tags": []
   },
   "outputs": [],
   "source": [
    "import os\n",
    "import random\n",
    "from langchain_community.chat_message_histories import ChatMessageHistory, CosmosDBChatMessageHistory\n",
    "from langchain_core.chat_history import BaseChatMessageHistory\n",
    "from langchain_core.runnables import ConfigurableFieldSpec\n",
    "from langchain_core.runnables.history import RunnableWithMessageHistory\n",
    "from langchain_openai import AzureChatOpenAI\n",
    "from langchain_openai import AzureOpenAIEmbeddings\n",
    "from langchain_core.prompts import ChatPromptTemplate, MessagesPlaceholder\n",
    "from langchain_core.output_parsers import StrOutputParser\n",
    "from operator import itemgetter\n",
    "from typing import List\n",
    "\n",
    "from IPython.display import Markdown, HTML, display  \n",
    "\n",
    "def printmd(string):\n",
    "    display(Markdown(string))\n",
    "\n",
    "#custom libraries that we will use later in the app\n",
    "from common.utils import CustomAzureSearchRetriever, get_answer\n",
    "from common.prompts import DOCSEARCH_PROMPT_TEXT\n",
    "\n",
    "from dotenv import load_dotenv\n",
    "load_dotenv(\"credentials.env\")\n",
    "\n",
    "import logging\n",
    "\n",
    "# Get the root logger\n",
    "logger = logging.getLogger()\n",
    "# Set the logging level to a higher level to ignore INFO messages\n",
    "logger.setLevel(logging.WARNING)"
   ]
  },
  {
   "cell_type": "code",
   "execution_count": 2,
   "id": "6bc63c55-a57d-49a7-b6c7-0f18bca8199e",
   "metadata": {
    "tags": []
   },
   "outputs": [],
   "source": [
    "# Set the ENV variables that Langchain needs to connect to Azure OpenAI\n",
    "os.environ[\"OPENAI_API_VERSION\"] = os.environ[\"AZURE_OPENAI_API_VERSION\"]"
   ]
  },
  {
   "cell_type": "markdown",
   "id": "3dc72b22-11c2-4df0-91b8-033d01829663",
   "metadata": {},
   "source": [
    "### Let's start with the basics\n",
    "Let's use a very simple example to see if the GPT model of Azure OpenAI have memory. We again will be using langchain to simplify our code "
   ]
  },
  {
   "cell_type": "code",
   "execution_count": 3,
   "id": "3eef5dc9-8b80-4085-980c-865fa41fa1f6",
   "metadata": {
    "tags": []
   },
   "outputs": [],
   "source": [
    "QUESTION = \"tell me chinese medicines that help fight covid-19\"\n",
    "FOLLOW_UP_QUESTION = \"What was my prior question?\""
   ]
  },
  {
   "cell_type": "code",
   "execution_count": 4,
   "id": "a00181d5-bd76-4ce4-a256-75ac5b58c60f",
   "metadata": {
    "tags": []
   },
   "outputs": [],
   "source": [
    "COMPLETION_TOKENS = 1000\n",
    "# Create an OpenAI instance\n",
    "llm = AzureChatOpenAI(deployment_name=os.environ[\"GPT4o_DEPLOYMENT_NAME\"], \n",
    "                      temperature=0.5, max_tokens=COMPLETION_TOKENS)"
   ]
  },
  {
   "cell_type": "code",
   "execution_count": 5,
   "id": "9502d0f1-fddf-40d1-95d2-a1461dcc498a",
   "metadata": {
    "tags": []
   },
   "outputs": [],
   "source": [
    "# We create a very simple prompt template, just the question as is:\n",
    "output_parser = StrOutputParser()\n",
    "prompt = ChatPromptTemplate.from_messages([\n",
    "    (\"system\", \"You are an assistant that give thorough responses to users.\"),\n",
    "    (\"user\", \"{input}\")\n",
    "])"
   ]
  },
  {
   "cell_type": "code",
   "execution_count": 6,
   "id": "c5c9903e-15c7-4e05-87a1-58e5a7917ba2",
   "metadata": {
    "tags": []
   },
   "outputs": [
    {
     "data": {
      "text/markdown": [
       "During the COVID-19 pandemic, several Traditional Chinese Medicine (TCM) formulations were studied and used in China as part of an integrated approach to treatment, often alongside conventional Western medicine. It is important to note that while some Chinese medicines showed potential in alleviating symptoms and supporting recovery, **no herbal remedy has been proven to cure or prevent COVID-19**. Their use should always be under the guidance of a qualified healthcare professional, and not as a substitute for vaccination or evidence-based medical care.\n",
       "\n",
       "### Commonly Used Chinese Medicines for COVID-19 (Based on Chinese Guidelines and Studies)\n",
       "\n",
       "#### 1. **Lianhua Qingwen (连花清瘟胶囊/颗粒)**\n",
       "- **Composition:** A patented formula with ingredients like Forsythia, Honeysuckle, Ephedra, Isatis root, and others.\n",
       "- **Reported Effects:** May help relieve fever, cough, and fatigue; has some anti-inflammatory and antiviral properties.\n",
       "- **Evidence:** Some clinical studies in China suggested symptom improvement, but robust international evidence is still limited.\n",
       "\n",
       "#### 2. **Jinhua Qinggan Granules (金花清感颗粒)**\n",
       "- **Composition:** Comprised of herbs such as Honeysuckle, Forsythia, Ephedra, and Licorice root.\n",
       "- **Reported Effects:** Used for fever, cough, and sore throat in mild cases.\n",
       "- **Evidence:** Included in Chinese national guidelines for mild COVID-19; some small studies suggest benefit for symptom relief.\n",
       "\n",
       "#### 3. **Xuebijing Injection (血必净注射液)**\n",
       "- **Composition:** An injectable TCM preparation made from Carthamus, Paeonia, Salvia, Angelica, and Chuanxiong.\n",
       "- **Reported Effects:** Used in hospitals for severe cases to reduce inflammation and improve organ function.\n",
       "- **Evidence:** Some studies suggest it may help reduce severity in critically ill patients when used alongside standard care.\n",
       "\n",
       "#### 4. **Qingfei Paidu Decoction (清肺排毒汤)**\n",
       "- **Composition:** A complex formula based on four classic TCM prescriptions, containing over 20 herbs such as Ephedra, Licorice, Almond, and Gypsum.\n",
       "- **Reported Effects:** Used in China for a range of COVID-19 severities, especially in early and moderate stages.\n",
       "- **Evidence:** Some observational studies in China reported symptom improvement and lower progression to severe disease, but high-quality trials are lacking.\n",
       "\n",
       "#### 5. **Huashi Baidu Formula (化湿败毒方)**\n",
       "- **Composition:** Contains herbs like Ephedra, Atractylodes, Pogostemon, and Licorice.\n",
       "- **Reported Effects:** Used for moderate to severe cases, especially with symptoms of dampness and toxin accumulation (in TCM theory).\n",
       "- **Evidence:** Used in designated hospitals; evidence is mainly from Chinese clinical experience and small studies.\n",
       "\n",
       "---\n",
       "\n",
       "### Important Notes\n",
       "\n",
       "- **Scientific Evidence:** Most studies on these medicines are from China, often with small sample sizes and limited controls. They are not widely endorsed by international health authorities such as the WHO.\n",
       "- **Regulation and Safety:** Some formulas may interact with other medications or have side effects. Always consult a qualified practitioner.\n",
       "- **Prevention:** These medicines are *not* substitutes for vaccination, masks, or other proven preventive measures.\n",
       "\n",
       "### References\n",
       "- National Health Commission of the People’s Republic of China: Diagnosis and Treatment Protocol for COVID-19 (various editions)\n",
       "- Review articles in journals such as *Phytomedicine* and *Frontiers in Pharmacology*\n",
       "- World Health Organization statements on traditional medicine and COVID-19\n",
       "\n",
       "---\n",
       "\n",
       "**If you are considering using any Chinese medicine for COVID-19, consult a licensed healthcare provider and do not rely on herbal remedies alone for prevention or treatment.**"
      ],
      "text/plain": [
       "<IPython.core.display.Markdown object>"
      ]
     },
     "metadata": {},
     "output_type": "display_data"
    }
   ],
   "source": [
    "# Let's see what the GPT model responds\n",
    "chain = prompt | llm | output_parser\n",
    "response_to_initial_question = chain.invoke({\"input\": QUESTION})\n",
    "display(Markdown(response_to_initial_question))"
   ]
  },
  {
   "cell_type": "code",
   "execution_count": 7,
   "id": "99acaf3c-ce68-4b87-b24a-6065b15ff9a8",
   "metadata": {
    "tags": []
   },
   "outputs": [
    {
     "data": {
      "text/markdown": [
       "I don’t have access to your previous questions or any prior conversation unless it’s included in this current chat session. If you’d like to refer to a previous question, please restate it or provide more details, and I’ll be happy to help!"
      ],
      "text/plain": [
       "<IPython.core.display.Markdown object>"
      ]
     },
     "metadata": {},
     "output_type": "display_data"
    }
   ],
   "source": [
    "#Now let's ask a follow up question\n",
    "printmd(chain.invoke({\"input\": FOLLOW_UP_QUESTION}))"
   ]
  },
  {
   "cell_type": "markdown",
   "id": "a3e1c143-c95f-4566-a8b4-af8c42f08dd2",
   "metadata": {
    "jp-MarkdownHeadingCollapsed": true,
    "tags": []
   },
   "source": [
    "As you can see, it doesn't remember what it just responded, sometimes it responds based only on the system prompt, or just randomly. This proof that the LLM does NOT have memory and that we need to give the memory as a a conversation history as part of the prompt, like this:"
   ]
  },
  {
   "cell_type": "code",
   "execution_count": 8,
   "id": "0946ce71-6285-432e-b011-9c2dc1ba7b8a",
   "metadata": {
    "tags": []
   },
   "outputs": [],
   "source": [
    "hist_prompt = ChatPromptTemplate.from_template(\n",
    "\"\"\"\n",
    "    {history}\n",
    "    Human: {question}\n",
    "    AI:\n",
    "\"\"\"\n",
    ")\n",
    "chain = hist_prompt | llm | output_parser"
   ]
  },
  {
   "cell_type": "code",
   "execution_count": 9,
   "id": "6d088e51-e5eb-4143-b87d-b2be429eb864",
   "metadata": {
    "tags": []
   },
   "outputs": [],
   "source": [
    "Conversation_history = \"\"\"\n",
    "Human: {question}\n",
    "AI: {response}\n",
    "\"\"\".format(question=QUESTION, response=response_to_initial_question)"
   ]
  },
  {
   "cell_type": "code",
   "execution_count": 10,
   "id": "d99e34ad-5539-44dd-b080-3ad05efd2f01",
   "metadata": {
    "tags": []
   },
   "outputs": [
    {
     "data": {
      "text/markdown": [
       "Your prior question was: \"tell me chinese medicines that help fight covid-19\""
      ],
      "text/plain": [
       "<IPython.core.display.Markdown object>"
      ]
     },
     "metadata": {},
     "output_type": "display_data"
    }
   ],
   "source": [
    "printmd(chain.invoke({\"history\":Conversation_history, \"question\": FOLLOW_UP_QUESTION}))"
   ]
  },
  {
   "cell_type": "markdown",
   "id": "045e5af6-55d6-4353-b3f6-3275c95db00a",
   "metadata": {},
   "source": [
    "**Bingo!**, so we now know how to create a chatbot using LLMs, we just need to keep the state/history of the conversation and pass it as context every time"
   ]
  },
  {
   "cell_type": "markdown",
   "id": "eafd1694-0077-4aa8-bd01-e9f763ce36a3",
   "metadata": {},
   "source": [
    "## Now that we understand the concept of memory via adding history as a context, let's go back to our GPT Smart Search engine"
   ]
  },
  {
   "cell_type": "markdown",
   "id": "9787ffb6-2b11-4b03-92fc-9443cd1f2ab9",
   "metadata": {},
   "source": [
    "From Langchain website:\n",
    "    \n",
    "A memory system needs to support two basic actions: reading and writing. Recall that every chain defines some core execution logic that expects certain inputs. Some of these inputs come directly from the user, but some of these inputs can come from memory. A chain will interact with its memory system twice in a given run.\n",
    "\n",
    "    AFTER receiving the initial user inputs but BEFORE executing the core logic, a chain will READ from its memory system and augment the user inputs.\n",
    "    AFTER executing the core logic but BEFORE returning the answer, a chain will WRITE the inputs and outputs of the current run to memory, so that they can be referred to in future runs.\n",
    "    \n",
    "So this process adds delays to the response, but it is a necessary delay :)"
   ]
  },
  {
   "cell_type": "markdown",
   "id": "f36e8f14-e566-4ae9-a7d4-6dee7f469dad",
   "metadata": {},
   "source": [
    "![image](./images/memory_diagram.png)"
   ]
  },
  {
   "cell_type": "code",
   "execution_count": 11,
   "id": "ef9f459b-e8b8-40b9-a94d-80c079968594",
   "metadata": {
    "tags": []
   },
   "outputs": [],
   "source": [
    "index1_name = \"srch-index-files\"\n",
    "index2_name = \"srch-index-csv\"\n",
    "index3_name = \"srch-index-books\"\n",
    "indexes = [index1_name, index2_name, index3_name]"
   ]
  },
  {
   "cell_type": "code",
   "execution_count": 12,
   "id": "b01852c2-6192-496c-adff-4270f9380469",
   "metadata": {
    "tags": []
   },
   "outputs": [],
   "source": [
    "# Initialize our custom retriever \n",
    "retriever = CustomAzureSearchRetriever(indexes=indexes, topK=50, reranker_threshold=1)"
   ]
  },
  {
   "cell_type": "markdown",
   "id": "3d9a3378-1c40-47c5-8ef7-6f68f4c58029",
   "metadata": {},
   "source": [
    "**Prompt Template Definition**\n",
    "\n",
    "If you check closely below, there is an optional variable in the `DOCSEARCH_PROMPT` called `history`. It is basically a placeholder were we will inject the conversation in the prompt so the LLM is aware of it before it answers.\n"
   ]
  },
  {
   "cell_type": "code",
   "execution_count": 13,
   "id": "cb3d9576-c052-4b3d-8d95-6604e19ca4cb",
   "metadata": {
    "tags": []
   },
   "outputs": [],
   "source": [
    "\n",
    "DOCSEARCH_PROMPT = ChatPromptTemplate.from_messages(\n",
    "    [\n",
    "        (\"system\", DOCSEARCH_PROMPT_TEXT + \"\\n\\nCONTEXT:\\n{context}\\n\\n\"),\n",
    "        MessagesPlaceholder(variable_name=\"history\", optional=True),\n",
    "        (\"human\", \"{question}\"),\n",
    "    ]\n",
    ")\n"
   ]
  },
  {
   "cell_type": "markdown",
   "id": "035fa6e6-226c-400f-a504-30255385f43b",
   "metadata": {},
   "source": [
    "**Now let's add memory to it:**"
   ]
  },
  {
   "cell_type": "code",
   "execution_count": 14,
   "id": "3c8c9381-08d0-4808-9ab1-78156ca1be6e",
   "metadata": {
    "tags": []
   },
   "outputs": [],
   "source": [
    "store = {} # Our first memory will be a dictionary in memory\n",
    "\n",
    "# We have to define a custom function that takes a session_id and looks somewhere\n",
    "# (in this case in a dictionary in memory) for the conversation\n",
    "def get_session_history(session_id: str) -> BaseChatMessageHistory:\n",
    "    if session_id not in store:\n",
    "        store[session_id] = ChatMessageHistory()\n",
    "    return store[session_id]\n"
   ]
  },
  {
   "cell_type": "code",
   "execution_count": 15,
   "id": "48ff51e1-2b1e-4c67-965d-1c2e2f55e005",
   "metadata": {
    "tags": []
   },
   "outputs": [],
   "source": [
    "# We use our original chain with the retriever but removing the StrOutputParser\n",
    "chain = (\n",
    "    {\n",
    "        \"context\": itemgetter(\"question\") | retriever, \n",
    "        \"question\": itemgetter(\"question\"),\n",
    "        \"history\": itemgetter(\"history\")\n",
    "    }\n",
    "    | DOCSEARCH_PROMPT\n",
    "    | llm\n",
    ")\n",
    "\n",
    "## Then we pass the above chain to another chain that adds memory to it\n",
    "\n",
    "output_parser = StrOutputParser()\n",
    "\n",
    "chain_with_history = RunnableWithMessageHistory(\n",
    "    chain,\n",
    "    get_session_history,\n",
    "    input_messages_key=\"question\",\n",
    "    history_messages_key=\"history\",\n",
    ") | output_parser"
   ]
  },
  {
   "cell_type": "code",
   "execution_count": 16,
   "id": "0e582915-243f-42cb-bb1e-c35a20ee0b9f",
   "metadata": {
    "tags": []
   },
   "outputs": [],
   "source": [
    "# This is where we configure the session id\n",
    "config={\"configurable\": {\"session_id\": \"abc123\"}}"
   ]
  },
  {
   "cell_type": "code",
   "execution_count": 17,
   "id": "d91a7ff4-6148-459d-917c-37302805dd09",
   "metadata": {
    "tags": []
   },
   "outputs": [
    {
     "data": {
      "text/markdown": [
       "A variety of traditional Chinese medicines (TCM) and herbal formulas have been recommended and used to help fight COVID-19, often in combination with standard care. Some of the most frequently mentioned and studied Chinese medicines and formulas include:\n",
       "\n",
       "1. **Qingfei Paidu Decoction** – This formula was recommended by the National Health Commission of China for the treatment of COVID-19 and has shown good clinical efficacy and potential in reducing symptoms, shortening treatment duration, and reducing complications[[7](https://doi.org/10.19540/j.cnki.cjcmm.20200219.501; https://www.ncbi.nlm.nih.gov/pubmed/32281335/)].\n",
       "\n",
       "2. **Lianhua Qingwen Capsule** – A Chinese patent medicine, often included in treatment protocols for COVID-19, and is among the most commonly used Chinese patent drugs[[25](https://www.ncbi.nlm.nih.gov/pubmed/32268018/)].\n",
       "\n",
       "3. **Maxing Shigan Decoction** – Frequently used in various treatment plans and considered a basic formulation for certain COVID-19 syndromes[[25](https://www.ncbi.nlm.nih.gov/pubmed/32268018/)].\n",
       "\n",
       "4. **Yin Qiao Powder** – Another basic formulation for early-stage (Weifen syndrome) COVID-19[[25](https://www.ncbi.nlm.nih.gov/pubmed/32268018/)].\n",
       "\n",
       "5. **Xuanbai Chengqi Decoction** – Commonly used in clinical practice for COVID-19[[25](https://www.ncbi.nlm.nih.gov/pubmed/32268018/)].\n",
       "\n",
       "6. **Angong Niuhuang Pill** and **Xuebijing Injection** – Frequently used Chinese patent medicines for COVID-19[[25](https://www.ncbi.nlm.nih.gov/pubmed/32268018/)].\n",
       "\n",
       "7. **Ma Xing Shi Gan Decoction (MXSGD)** – Widely applied in the clinical treatment of COVID-19, with mechanisms including reducing inflammation, suppressing cytokine storms, and regulating immune response[[22](https://doi.org/10.26355/eurrev_202003_20704; https://www.ncbi.nlm.nih.gov/pubmed/32271454/)].\n",
       "\n",
       "8. **Shuang Huang Lian Kou Fu Ye** and other TCM combinations such as Bu Huan Jin Zheng Qi San with Da Yuan Yin, Xue Bi Jing Injection, and Qing Fei Pai Du Tang – These have been used and studied for their potential to inhibit viral proliferation and modulate immune responses[[1](https://doi.org/10.1101/2020.04.10.20060376)].\n",
       "\n",
       "9. **High-frequency single herbs** – Some of the most frequently used herbs include Astragalus membranaceus, Lonicera japonica, Glycyrrhizae Radix et Rhizoma (licorice root), Armeniacae Semen Amarum (bitter apricot seed), Gypsum Fibrosum, Scutellariae Radix, and others[[6](https://doi.org/10.19540/j.cnki.cjcmm.20200220.502; https://www.ncbi.nlm.nih.gov/pubmed/32281332/)], [[25](https://www.ncbi.nlm.nih.gov/pubmed/32268018/)].\n",
       "\n",
       "These Chinese medicines and formulas are typically used based on syndrome differentiation and stage of disease, with different prescriptions for prevention, early intervention, severe cases, and recovery. TCM aims to strengthen body resistance, clear heat, remove toxins, resolve phlegm, and support lung function[[9](https://doi.org/10.19540/j.cnki.cjcmm.20200225.501; https://www.ncbi.nlm.nih.gov/pubmed/32281333/)], [[14](https://doi.org/10.7501/j.issn.0253-2670.2020.04.007)], [[25](https://www.ncbi.nlm.nih.gov/pubmed/32268018/)].\n",
       "\n",
       "It is important to note that while TCM has played a positive role in fighting COVID-19 in China, further large-scale clinical studies are needed to fully verify their effectiveness[[10](https://doi.org/10.21037/apm.2020.03.27; https://www.ncbi.nlm.nih.gov/pubmed/32233641/)].\n",
       "\n",
       "**References:**\n",
       "- [[1](https://doi.org/10.1101/2020.04.10.20060376)]\n",
       "- [[6](https://doi.org/10.19540/j.cnki.cjcmm.20200220.502; https://www.ncbi.nlm.nih.gov/pubmed/32281332/)]\n",
       "- [[7](https://doi.org/"
      ],
      "text/plain": [
       "<IPython.core.display.Markdown object>"
      ]
     },
     "metadata": {},
     "output_type": "display_data"
    }
   ],
   "source": [
    "printmd(chain_with_history.invoke({\"question\": QUESTION}, config=config))"
   ]
  },
  {
   "cell_type": "code",
   "execution_count": 18,
   "id": "25dfc233-450f-4671-8f1c-0b446e46f048",
   "metadata": {
    "tags": []
   },
   "outputs": [
    {
     "data": {
      "text/markdown": [
       "Your prior question was: \"tell me chinese medicines that help fight covid-19\""
      ],
      "text/plain": [
       "<IPython.core.display.Markdown object>"
      ]
     },
     "metadata": {},
     "output_type": "display_data"
    }
   ],
   "source": [
    "# Remembers\n",
    "printmd(chain_with_history.invoke({\"question\": FOLLOW_UP_QUESTION},config=config))"
   ]
  },
  {
   "cell_type": "code",
   "execution_count": 19,
   "id": "c67073c2-9a82-4e44-a9e2-48fe868c1634",
   "metadata": {
    "tags": []
   },
   "outputs": [
    {
     "data": {
      "text/markdown": [
       "You're welcome! Good bye[[9](https://doi.org/10.19540/j.cnki.cjcmm.20200225.501; https://www.ncbi.nlm.nih.gov/pubmed/32281333/)]."
      ],
      "text/plain": [
       "<IPython.core.display.Markdown object>"
      ]
     },
     "metadata": {},
     "output_type": "display_data"
    }
   ],
   "source": [
    "# Remembers\n",
    "printmd(chain_with_history.invoke({\"question\": \"Thank you! Good bye\"},config=config))"
   ]
  },
  {
   "cell_type": "markdown",
   "id": "87405173",
   "metadata": {},
   "source": [
    "## Using CosmosDB as persistent memory\n",
    "\n",
    "Previously, we  added local RAM memory to our chatbot. However, it is not persistent, it gets deleted once the app user's session is terminated. It is necessary then to use a Database for persistent storage of each of the  user conversations, not only for Analytics and Auditing, but also if we wish to provide recommendations in the future. \n",
    "\n",
    "In the next notebook we are going to explain how to use an external Database (CosmosDB) to keep the state of the conversation."
   ]
  },
  {
   "cell_type": "markdown",
   "id": "6789cada-23a3-451a-a91a-0906ceb0bd14",
   "metadata": {},
   "source": [
    "# Summary\n",
    "##### Adding memory to our application allows the user to have a conversation, however this feature is not something that comes with the LLM, but instead, memory is something that we must provide to the LLM in form of context of the question.\n",
    "\n",
    "We added persitent memory using local RAM.\n",
    "\n",
    "We also can notice that the current chain that we are using is smart, but not that much. Although we have given memory to it, many times it searches for similar docs everytime, regardless of the input. This doesn't seem efficient, but regardless, we are very close to finish our first RAG talk-to-your-data bot.\n",
    "\n",
    "Note:The use of `RunnableWithMessageHistory` in this notebook is for example purposes. We will see later (on the next notebooks), that we recomend the use of memory state and graphs in order to inject memory into an bot. "
   ]
  },
  {
   "cell_type": "markdown",
   "id": "c629ebf4-aced-45b7-a6a2-315810d37d48",
   "metadata": {},
   "source": [
    "# NEXT\n",
    "We know now how to do a Retrieval System that can power a decent chatbot!! great!\n",
    "\n",
    "In the next notebook 6, we are going to build our first reasoning RAG bot. In order to do this we will introduce the concept of Agents."
   ]
  },
  {
   "cell_type": "code",
   "execution_count": null,
   "id": "f53a8f7a-5e28-4d5f-9a33-0a3be0536b0f",
   "metadata": {},
   "outputs": [],
   "source": []
  }
 ],
 "metadata": {
  "kernelspec": {
   "display_name": "RAGAgents (Python 3.12)",
   "language": "python",
   "name": "ragagents"
  },
  "language_info": {
   "codemirror_mode": {
    "name": "ipython",
    "version": 3
   },
   "file_extension": ".py",
   "mimetype": "text/x-python",
   "name": "python",
   "nbconvert_exporter": "python",
   "pygments_lexer": "ipython3",
   "version": "3.12.11"
  }
 },
 "nbformat": 4,
 "nbformat_minor": 5
}
