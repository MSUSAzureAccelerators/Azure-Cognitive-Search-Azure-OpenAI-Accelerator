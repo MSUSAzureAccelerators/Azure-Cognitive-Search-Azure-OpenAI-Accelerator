{
 "cells": [
  {
   "cell_type": "markdown",
   "id": "66ab3cc5-aee4-415a-9391-1e5d37ccaf1d",
   "metadata": {},
   "source": [
    "# Skill 5: API Search - Make our bot to talk to any API"
   ]
  },
  {
   "cell_type": "markdown",
   "id": "306fc0a9-4044-441d-9ba7-f54f32e6ea9f",
   "metadata": {},
   "source": [
    "We have observed the remarkable synergy created by combining **OpenAI llms with intelligent agents and detailed prompts**. This powerful combination has consistently delivered impressive results. To further capitalize on this capability, we should aim to integrate it with various systems through API communication. Essentially, we can develop within this notebook what is referred to in OpenAI's ChatGPT as 'GPTs.'\n",
    "\n",
    "Envision a bot that seamlessly integrates with:\n",
    "\n",
    "- **CRM Systems:** Including Dynamics, Salesforce, and HubSpot.\n",
    "- **ERP Systems:** Such as SAP, Dynamics, and Oracle.\n",
    "- **CMS Systems:** Including Adobe, Oracle, and other content management platforms.\n",
    "\n",
    "The objective is to connect our bot with data repositories, minimizing data duplication as much as possible. These systems typically offer APIs, facilitating programmatic data access.\n",
    "\n",
    "In this notebook, we plan to develop an agent capable of querying an API to retrieve information and effectively answer questions.\n",
    "This time we are going to use an open API for currency and digital coins pricing: https://docs.kraken.com/rest/#tag/Market-Data"
   ]
  },
  {
   "cell_type": "code",
   "execution_count": 1,
   "id": "c1fb79a3-4856-4721-988c-112813690a90",
   "metadata": {
    "tags": []
   },
   "outputs": [],
   "source": [
    "import os\n",
    "import json\n",
    "import requests\n",
    "from pydantic import BaseModel \n",
    "\n",
    "from langchain_openai import AzureChatOpenAI\n",
    "from langchain_core.tools import BaseTool, StructuredTool\n",
    "from langchain_community.agent_toolkits.openapi.toolkit import RequestsToolkit\n",
    "from langchain_community.utilities.requests import RequestsWrapper, TextRequestsWrapper\n",
    "\n",
    "from langgraph.prebuilt import create_react_agent\n",
    "\n",
    "from common.utils import num_tokens_from_string, reduce_openapi_spec\n",
    "from common.prompts import APISEARCH_PROMPT_TEXT\n",
    "\n",
    "from IPython.display import Markdown, HTML, display  \n",
    "\n",
    "from dotenv import load_dotenv\n",
    "load_dotenv(\"credentials.env\")\n",
    "\n",
    "def printmd(string):\n",
    "    display(Markdown(string.replace(\"$\",\"USD \")))\n"
   ]
  },
  {
   "cell_type": "code",
   "execution_count": 2,
   "id": "258a6e99-2d4f-4147-b8ee-c64c85296181",
   "metadata": {
    "tags": []
   },
   "outputs": [],
   "source": [
    "# Set the ENV variables that Langchain needs to connect to Azure OpenAI\n",
    "os.environ[\"OPENAI_API_VERSION\"] = os.environ[\"AZURE_OPENAI_API_VERSION\"]"
   ]
  },
  {
   "cell_type": "code",
   "execution_count": 3,
   "id": "9d3daf03-77e2-466e-a255-2f06bee3561b",
   "metadata": {
    "tags": []
   },
   "outputs": [],
   "source": [
    "COMPLETION_TOKENS = 2000\n",
    "\n",
    "# This notebook needs GPT-4-Turbo (context size of 128k tokens)\n",
    "llm = AzureChatOpenAI(deployment_name=os.environ[\"GPT4o_DEPLOYMENT_NAME\"], \n",
    "                      temperature=0.5, max_tokens=COMPLETION_TOKENS, \n",
    "                      streaming=True)"
   ]
  },
  {
   "cell_type": "markdown",
   "id": "9cc03401-a5a9-455b-bf17-07da2005e61f",
   "metadata": {},
   "source": [
    "## The Logic"
   ]
  },
  {
   "cell_type": "markdown",
   "id": "ebe42eda-3e74-4114-bd25-2473593cc1b4",
   "metadata": {},
   "source": [
    "By now, you must infer that the solution for an API Agent has to be something like: give the API specification as part of the system prompt to the LLM , then let a graph agent plan for the right steps to formulate the API calls.<br>\n",
    "\n",
    "Let's do that. But we must first understand the industry standards of Swagger/OpenAPI\n"
   ]
  },
  {
   "cell_type": "markdown",
   "id": "1e8e0b32-a6b5-4b1c-943d-e57b737213fa",
   "metadata": {},
   "source": [
    "## Introduction to OpenAPI (formerly Swagger)"
   ]
  },
  {
   "cell_type": "markdown",
   "id": "003327ac-2851-48ef-8a6b-2d8c2004bb2e",
   "metadata": {},
   "source": [
    "The OpenAPI Specification, previously known as the Swagger Specification, is a specification for a machine-readable interface definition language for describing, producing, consuming and visualizing web services. Previously part of the Swagger framework, it became a separate project in 2016, overseen by the OpenAPI Initiative, an open-source collaboration project of the Linux Foundation.\n",
    "\n",
    "OpenAPI Specification is an API description format for REST APIs. An OpenAPI file allows you to describe your entire API, including: Available endpoints (/users for example) and operations on each endpoint ( GET /users, POST /users), description, contact information, license, terms of use and other information."
   ]
  },
  {
   "cell_type": "markdown",
   "id": "a1902af5-f889-4bcf-85e0-1b601bd2ce47",
   "metadata": {},
   "source": [
    "### Let's get the OpenAPI (Swagger) spec from our desired API that we want to talk to\n",
    "You can also download it from the Kraken website: https://docs.kraken.com/rest/"
   ]
  },
  {
   "cell_type": "markdown",
   "id": "dd3cab16-e71d-4652-ab27-7b0704365454",
   "metadata": {},
   "source": [
    "Let's see how big is this API specification:"
   ]
  },
  {
   "cell_type": "code",
   "execution_count": 4,
   "id": "03e6ab7d-4493-466e-8771-21e75381b986",
   "metadata": {
    "tags": []
   },
   "outputs": [],
   "source": [
    "LOCAL_FILE_PATH = \"./data/openapi_kraken.json\""
   ]
  },
  {
   "cell_type": "code",
   "execution_count": 5,
   "id": "e4c2e7ca-a9ed-446f-b4db-b8d558f7e1d9",
   "metadata": {
    "tags": []
   },
   "outputs": [],
   "source": [
    "# Open and read the JSON file\n",
    "with open(LOCAL_FILE_PATH, 'r') as file:\n",
    "    spec = json.load(file)"
   ]
  },
  {
   "cell_type": "code",
   "execution_count": 6,
   "id": "94503afc-c398-458a-b369-610c5dbe682d",
   "metadata": {
    "tags": []
   },
   "outputs": [],
   "source": [
    "# You can check the function \"reduce_openapi_spec()\" in utils.py\n",
    "reduced_api_spec = reduce_openapi_spec(spec)"
   ]
  },
  {
   "cell_type": "code",
   "execution_count": 7,
   "id": "57d77e9b-6f3f-4ec4-bc01-baac18984937",
   "metadata": {
    "tags": []
   },
   "outputs": [
    {
     "name": "stdout",
     "output_type": "stream",
     "text": [
      "API spec size in tokens: 66625\n",
      "Reduced API spec size in tokens: 57394\n"
     ]
    }
   ],
   "source": [
    "api_tokens = num_tokens_from_string(str(spec))\n",
    "print(\"API spec size in tokens:\",api_tokens)\n",
    "api_tokens = num_tokens_from_string(str(reduced_api_spec))\n",
    "print(\"Reduced API spec size in tokens:\",api_tokens)"
   ]
  },
  {
   "cell_type": "markdown",
   "id": "d8b95356-587d-43ca-982f-500779078482",
   "metadata": {},
   "source": [
    "Sometimes it makes sense to reduce the size of the API Specs by using the `reduce_openapi_spec` function. It's optional."
   ]
  },
  {
   "cell_type": "markdown",
   "id": "cd8c3b3e-959e-4b19-b34d-66de3501b1b1",
   "metadata": {},
   "source": [
    "#### NOTE: As you can see, a large context LLM is needed. `GPT4` or newer models are necessary for this notebook to run succesfully."
   ]
  },
  {
   "cell_type": "markdown",
   "id": "9a945386-39eb-405d-9310-3b67c9af77bb",
   "metadata": {},
   "source": [
    "### Define Tools"
   ]
  },
  {
   "cell_type": "code",
   "execution_count": 8,
   "id": "ef8b7f43-86ac-4c51-84a5-395c1f2c6db6",
   "metadata": {
    "tags": []
   },
   "outputs": [],
   "source": [
    "# Most of APIs require Authorization tokens, so we construct the headers using a lightweight python request wrapper called RequestsWrapper\n",
    "access_token = \"ABCDEFG123456\" \n",
    "headers = {\"Authorization\": f\"Bearer {access_token}\"}\n",
    "requests_wrapper = RequestsWrapper(headers=headers)\n",
    "\n",
    "toolkit = RequestsToolkit(\n",
    "    requests_wrapper=RequestsWrapper(headers=headers),\n",
    "    allow_dangerous_requests=True,\n",
    ")"
   ]
  },
  {
   "cell_type": "code",
   "execution_count": 9,
   "id": "8475a4a3-48b3-476b-b900-49840e21e463",
   "metadata": {
    "tags": []
   },
   "outputs": [
    {
     "data": {
      "text/plain": [
       "[RequestsGetTool(requests_wrapper=TextRequestsWrapper(headers={'Authorization': 'Bearer ABCDEFG123456'}, aiosession=None, auth=None, response_content_type='text', verify=True), allow_dangerous_requests=True),\n",
       " RequestsPostTool(requests_wrapper=TextRequestsWrapper(headers={'Authorization': 'Bearer ABCDEFG123456'}, aiosession=None, auth=None, response_content_type='text', verify=True), allow_dangerous_requests=True),\n",
       " RequestsPatchTool(requests_wrapper=TextRequestsWrapper(headers={'Authorization': 'Bearer ABCDEFG123456'}, aiosession=None, auth=None, response_content_type='text', verify=True), allow_dangerous_requests=True),\n",
       " RequestsPutTool(requests_wrapper=TextRequestsWrapper(headers={'Authorization': 'Bearer ABCDEFG123456'}, aiosession=None, auth=None, response_content_type='text', verify=True), allow_dangerous_requests=True),\n",
       " RequestsDeleteTool(requests_wrapper=TextRequestsWrapper(headers={'Authorization': 'Bearer ABCDEFG123456'}, aiosession=None, auth=None, response_content_type='text', verify=True), allow_dangerous_requests=True)]"
      ]
     },
     "execution_count": 9,
     "metadata": {},
     "output_type": "execute_result"
    }
   ],
   "source": [
    "toolkit.get_tools()"
   ]
  },
  {
   "cell_type": "code",
   "execution_count": 10,
   "id": "2b536301-3835-4ce0-84e2-4012973b12d1",
   "metadata": {
    "tags": []
   },
   "outputs": [],
   "source": [
    "tools = toolkit.get_tools()"
   ]
  },
  {
   "cell_type": "markdown",
   "id": "b0f4d6a2-2678-4e19-b070-b0a8028bde72",
   "metadata": {},
   "source": [
    "### Define Prompt"
   ]
  },
  {
   "cell_type": "code",
   "execution_count": 11,
   "id": "38b3972b-beca-4068-85c0-a7cda0ded894",
   "metadata": {
    "tags": []
   },
   "outputs": [
    {
     "data": {
      "text/markdown": [
       "\n",
       "\n",
       "## Source of Information\n",
       "- You have access to an API to help answer user queries.\n",
       "- Here is documentation on the API: {api_spec}\n",
       "\n",
       "## On how to use the Tools\n",
       "- You are an agent designed to connect to RestFul APIs.\n",
       "- Given API documentation above, use the right tools to connect to the API.\n",
       "- **ALWAYS** before giving the Final Answer, try another method if available. Then reflect on the answers of the two methods you did and ask yourself if it answers correctly the original question. If you are not sure, try another method.\n",
       "- If you are sure of the correct answer, create a beautiful and thorough response using Markdown.\n",
       "- **DO NOT MAKE UP AN ANSWER OR USE Pre-Existing KNOWLEDGE, ONLY USE THE RESULTS OF THE CALCULATIONS YOU HAVE DONE**. \n",
       "- Only use the output of your code to answer the question. \n"
      ],
      "text/plain": [
       "<IPython.core.display.Markdown object>"
      ]
     },
     "metadata": {},
     "output_type": "display_data"
    }
   ],
   "source": [
    "printmd(APISEARCH_PROMPT_TEXT)"
   ]
  },
  {
   "cell_type": "markdown",
   "id": "82cc97fa-5184-4d43-9b36-a66c04f73a3b",
   "metadata": {
    "tags": []
   },
   "source": [
    "### Create Graph"
   ]
  },
  {
   "cell_type": "code",
   "execution_count": 12,
   "id": "97432e39-965f-4eb1-8dfa-55cdfef5e541",
   "metadata": {
    "tags": []
   },
   "outputs": [],
   "source": [
    "graph = create_react_agent(llm, tools, prompt=APISEARCH_PROMPT_TEXT.format(api_spec=reduced_api_spec))"
   ]
  },
  {
   "cell_type": "markdown",
   "id": "24fa45b2-dd42-485b-b77b-ca66fb223e4f",
   "metadata": {},
   "source": [
    "### Run the Graph"
   ]
  },
  {
   "cell_type": "code",
   "execution_count": 13,
   "id": "659d4b36-ca54-4505-aab8-8f6534448408",
   "metadata": {
    "tags": []
   },
   "outputs": [],
   "source": [
    "async def stream_graph_updates_async(graph, user_input: str):\n",
    "    inputs = {\"messages\": [(\"human\", user_input)]}\n",
    "\n",
    "    async for event in graph.astream_events(inputs, version=\"v2\"):\n",
    "        if (event[\"event\"] == \"on_chat_model_stream\"):\n",
    "            # Print the content of the chunk progressively\n",
    "            print(event[\"data\"][\"chunk\"].content, end=\"\", flush=True)\n",
    "        elif (event[\"event\"] == \"on_tool_start\"  ):\n",
    "            print(\"\\n--\")\n",
    "            print(f\"Calling tool: {event['name']} with inputs: {event['data'].get('input')}\")\n",
    "            print(\"--\")"
   ]
  },
  {
   "cell_type": "code",
   "execution_count": 14,
   "id": "d020b5de-7ebe-4fb9-9b71-f6c71956149d",
   "metadata": {
    "tags": []
   },
   "outputs": [],
   "source": [
    "QUESTION = \"\"\"\n",
    "Tell me the price of bitcoin against USD , also the latest OHLC values for Ethereum,\n",
    "also tell me the bid and ask for Euro.\n",
    "\"\"\""
   ]
  },
  {
   "cell_type": "code",
   "execution_count": 15,
   "id": "fabda1d0-7050-4871-b155-5be9e24a24ff",
   "metadata": {
    "tags": []
   },
   "outputs": [
    {
     "name": "stdout",
     "output_type": "stream",
     "text": [
      "\n",
      "--\n",
      "Calling tool: requests_get with inputs: {'url': 'https://api.kraken.com/0/public/Ticker?pair=XXBTZUSD'}\n",
      "--\n",
      "\n",
      "--\n",
      "Calling tool: requests_get with inputs: {'url': 'https://api.kraken.com/0/public/OHLC?pair=XETHZUSD'}\n",
      "--\n",
      "\n",
      "--\n",
      "Calling tool: requests_get with inputs: {'url': 'https://api.kraken.com/0/public/Ticker?pair=ZEURZUSD'}\n",
      "--\n",
      "Here are the latest values for your requests from the Kraken exchange:\n",
      "\n",
      "---\n",
      "\n",
      "### 1. Price of Bitcoin (BTC) against USD\n",
      "\n",
      "- **Last Trade Price:** $116,539.90\n",
      "- **Ask Price:** $116,540.00\n",
      "- **Bid Price:** $116,539.90\n",
      "\n",
      "---\n",
      "\n",
      "### 2. Latest OHLC Values for Ethereum (ETH) against USD\n",
      "\n",
      "The most recent completed 1-minute candle (OHLC) for ETH/USD is:\n",
      "\n",
      "- **Open:** $2,965.53\n",
      "- **High:** $2,965.60\n",
      "- **Low:** $2,965.52\n",
      "- **Close:** $2,965.60\n",
      "\n",
      "---\n",
      "\n",
      "### 3. Bid and Ask for Euro (EUR) against USD\n",
      "\n",
      "- **Ask Price:** $1.16916 (for 70 EUR)\n",
      "- **Bid Price:** $1.16909 (for 90 EUR)\n",
      "\n",
      "---\n",
      "\n",
      "**Summary Table**\n",
      "\n",
      "| Pair        | Last Price      | Ask Price    | Bid Price    | Latest OHLC (ETH/USD)              |\n",
      "|-------------|----------------|--------------|--------------|-------------------------------------|\n",
      "| BTC/USD     | $116,539.90    | $116,540.00  | $116,539.90  | -                                   |\n",
      "| ETH/USD     | -              | -            | -            | O: $2,965.53 H: $2,965.60 L: $2,965.52 C: $2,965.60 |\n",
      "| EUR/USD     | $1.16916       | $1.16916     | $1.16909     | -                                   |\n",
      "\n",
      "If you need more details (like volume, high/low for the day, or other pairs), just let me know!"
     ]
    }
   ],
   "source": [
    "await stream_graph_updates_async(graph, QUESTION)"
   ]
  },
  {
   "cell_type": "markdown",
   "id": "73027201-d6e2-4aa0-a480-934c53ae4eb8",
   "metadata": {},
   "source": [
    "**Great!!** we have now an API Agent, capable of reasoning until it can find the answer given an API documentation."
   ]
  },
  {
   "cell_type": "markdown",
   "id": "e9ba3e35-8021-4262-8494-d1aee3862f7e",
   "metadata": {},
   "source": [
    "## Simple APIs\n",
    "\n",
    "What happens if the API is quite basic, meaning it's just a simple endpoint without a Swagger/OpenAPI definition? Let’s consider the following example:\n",
    "\n",
    "[CountdownAPI](https://www.countdownapi.com/) is a streamlined version of the eBay API, available as a paid service. We can test it using their demo query, which does not require any Swagger or OpenAPI specification. In this scenario, our main task is to create a tool that retrieves the results. We then pass these results to an agent for analysis, providing answers to user queries, similar to our approach with the Bing Search agent.\n",
    "\n",
    "In the example below, there is no API specification, but the response from the API is rather lengthy."
   ]
  },
  {
   "cell_type": "code",
   "execution_count": 16,
   "id": "9782fafa-9453-46be-b9d7-b33088f61ac8",
   "metadata": {
    "tags": []
   },
   "outputs": [
    {
     "name": "stdout",
     "output_type": "stream",
     "text": [
      "Token count: 17427 \n",
      "\n",
      "{\"request_info\": {\"success\": true, \"demo\": true}, \"request_parameters\": {\"type\": \"search\", \"ebay_domain\": \"ebay.com\", \"search_term\": \"memory cards\"}, \"request_metadata\": {\"ebay_url\": \"https://www.ebay.com/sch/i.html?_nkw=memory+cards&_sacat=0&_dmd=1&_fcid=1\"}, \"search_results\": [{\"position\": 1, \"title\": \"High Speed Lenovo Memory Card 1tb 2tb Micro Sd Card Class 10 Xc Tf Card Adapter\", \"epid\": \"306109140125\", \"link\": \"https://www.ebay.com/itm/306109140125\", \"image\": \"https://i.ebayimg.com/images/g/qG0AAOSwUH1nrMPo/s-l500.jpg\", \"condition\": \"Brand New\", \"seller_info\": {\"name\": \"eurekaglobal\", \"review_count\": 1230, \"positive_feedback_percent\": 93.6}, \"is_auction\": false, \"buy_it_now\": true, \"free_returns\": false, \"item_location\": \"Located in United States\", \"sponsored\": false, \"prices\": [{\"value\": 7.99, \"raw\": \"$7.99\"}, {\"value\": 15.99, \"raw\": \"$15.99\"}], \"price\": {\"value\": 7.99, \"raw\": \"$7.99\"}}, {\"position\": 2, \"title\": \"Micro SD Card 32GB 64GB 128GB 256GB 1024GB Micro SD TF Memory Card Adapter lot\", \"epid\": \"316523947443\", \"link\": \"https://www.ebay.com/itm/316523947443\", \"image\": \"https://i.ebayimg.com/images/g/BDcAAOSwYj5n0vlY/s-l500.jpg\", \"condition\": \"Brand New\", \"seller_info\": {\"name\": \"lztwltrade\", \"review_count\": 308, \"positive_feedback_percent\": 99}, \"is_auction\": false, \"buy_it_now\": true, \"free_returns\": true, \"item_location\": \"Located in United States\", \"sponsored\": false, \"prices\": [{\"value\": 2.09, \"raw\": \"$2.09\"}, {\"value\": 121.09, \"raw\": \"$121.09\"}], \"price\": {\"value\": 2.09, \"raw\": \"$2.09\"}}, {\"position\": 3, \"title\": \"SanDisk Micro SD Card Ultra 16GB 32GB 64GB 128GB 256GB TF SDHC/SDXC Class 10\", \"epid\": \"156319720929\", \"link\": \"https://www.ebay.com/itm/156319720929\", \"image\": \"https://i.ebayimg.com/images/g/kFQAAOSwiydm40su/s-l140.jpg\", \"condition\": \"Brand New\", \"seller_info\": {\"name\": \"darkspear\", \"review_count\": 2609, \"positive_feedback_percent\": 98.5}, \"is_auction\": false, \"buy_it_now\": true, \"free_returns\": false, \"item_location\": \"Located in United ...\n"
     ]
    }
   ],
   "source": [
    "# set up the request parameters\n",
    "params = {\n",
    "  'api_key': 'demo',\n",
    "  'type': 'search',\n",
    "  'ebay_domain': 'ebay.com',\n",
    "  'search_term': 'memory cards'\n",
    "}\n",
    "\n",
    "# make the http GET request to Countdown API\n",
    "api_result = requests.get('https://api.countdownapi.com/request', params)\n",
    "\n",
    "num_tokens = num_tokens_from_string(str(api_result.json())) # this is a custom function we created in common/utils.py\n",
    "print(\"Token count:\",num_tokens,\"\\n\")  \n",
    "\n",
    "# print the first 2000 characters of JSON response from Countdown API\n",
    "print(json.dumps(api_result.json())[:2000], \"...\")"
   ]
  },
  {
   "cell_type": "markdown",
   "id": "57cf8aaa-9a16-48ad-9846-bbacec82d52f",
   "metadata": {},
   "source": [
    "So, the answer from this product query (the demo only works with 'memory cards' - you will need to sign up for their trial if you want to try any query with an API key), is about ~17k tokens. When combined with the prompt, we won't have any other option than to use GPT-4 models. "
   ]
  },
  {
   "cell_type": "markdown",
   "id": "a7280427-688a-45c4-bf98-d1d392cdfe9c",
   "metadata": {},
   "source": [
    "### Define a custom tool to call the API endpoint"
   ]
  },
  {
   "cell_type": "code",
   "execution_count": 17,
   "id": "67c51a32-13f5-4802-84cd-ce40b397cb1b",
   "metadata": {
    "tags": []
   },
   "outputs": [],
   "source": [
    "class MySimpleAPISearch(BaseTool):\n",
    "    \"\"\"Tool for simple API calls that doesn't require OpenAPI 3.0 specs\"\"\"\n",
    "    \n",
    "    name:str = \"apisearch\"\n",
    "    description:str = \"useful when the questions includes the term: apisearch.\\n\"\n",
    "\n",
    "    api_key: str\n",
    "    \n",
    "    def _run(self, query: str) -> str:\n",
    "        \n",
    "        params = {\n",
    "          'api_key': self.api_key,\n",
    "          'type': 'search',\n",
    "          'ebay_domain': 'ebay.com',\n",
    "          'search_term': query\n",
    "        }\n",
    "\n",
    "        # make the http GET request to Countdown API\n",
    "        api_result = requests.get('https://api.countdownapi.com/request', params)\n",
    "        \n",
    "        try:\n",
    "            response = json.dumps(api_result.json())\n",
    "        except Exception as e:\n",
    "            response = e\n",
    "        \n",
    "        return response\n",
    "            \n",
    "    async def _arun(self, query: str) -> str:\n",
    "        \"\"\"Use the tool asynchronously.\"\"\"\n",
    "        raise NotImplementedError(\"This Tool does not support async\")"
   ]
  },
  {
   "cell_type": "code",
   "execution_count": 18,
   "id": "c0daa409-a196-4eae-aaac-b4545d0e3280",
   "metadata": {
    "tags": []
   },
   "outputs": [],
   "source": [
    "tools = [MySimpleAPISearch(api_key='demo')]\n",
    "graph = create_react_agent(llm, tools, prompt=APISEARCH_PROMPT_TEXT.format(api_spec=\"API provided by the tool\"))"
   ]
  },
  {
   "cell_type": "markdown",
   "id": "c6a0f773-7957-469a-a8bc-911a68ce0b98",
   "metadata": {},
   "source": [
    "This time let's use the .stream() method "
   ]
  },
  {
   "cell_type": "code",
   "execution_count": 19,
   "id": "64d77691-e29a-45b2-a045-da755d9c7d8b",
   "metadata": {
    "tags": []
   },
   "outputs": [],
   "source": [
    "QUESTION = 'what is the price for SanDisk \"memory cards\"? give me the links please'"
   ]
  },
  {
   "cell_type": "code",
   "execution_count": 20,
   "id": "71a1d824-7257-4a6b-8b0c-cd5176136ac7",
   "metadata": {
    "tags": []
   },
   "outputs": [],
   "source": [
    "def print_stream(stream):\n",
    "    for s in stream:\n",
    "        message = s[\"messages\"][-1]\n",
    "        if isinstance(message, tuple):\n",
    "            print(message)\n",
    "        else:\n",
    "            message.pretty_print()"
   ]
  },
  {
   "cell_type": "code",
   "execution_count": 21,
   "id": "64fa79ee-9a50-4ddf-a87e-c0c28615ce4e",
   "metadata": {
    "tags": []
   },
   "outputs": [
    {
     "name": "stdout",
     "output_type": "stream",
     "text": [
      "================================\u001b[1m Human Message \u001b[0m=================================\n",
      "\n",
      "what is the price for SanDisk \"memory cards\"? give me the links please\n",
      "==================================\u001b[1m Ai Message \u001b[0m==================================\n",
      "Tool Calls:\n",
      "  apisearch (call_aJh1U3lcKwi34ZNrtlIUX5KG)\n",
      " Call ID: call_aJh1U3lcKwi34ZNrtlIUX5KG\n",
      "  Args:\n",
      "    query: SanDisk memory cards\n",
      "=================================\u001b[1m Tool Message \u001b[0m=================================\n",
      "Name: apisearch\n",
      "\n",
      "{\"request_info\": {\"success\": true, \"demo\": true}, \"request_parameters\": {\"type\": \"search\", \"ebay_domain\": \"ebay.com\", \"search_term\": \"SanDisk memory cards\"}, \"request_metadata\": {\"ebay_url\": \"https://www.ebay.com/sch/i.html?_nkw=SanDisk+memory+cards&_sacat=0&_dmd=1&_fcid=1\"}, \"search_results\": [{\"position\": 1, \"title\": \"SanDisk Micro SD Extreme Pro 128GB Class 10 MicroSDXC A2 Memory Card W/ Adapter\", \"epid\": \"336005714456\", \"link\": \"https://www.ebay.com/itm/336005714456\", \"image\": \"https://i.ebayimg.com/images/g/p8UAAOSwyX5oR47f/s-l500.jpg\", \"condition\": \"Brand New\", \"seller_info\": {\"name\": \"zhaoxinspea\", \"review_count\": 2375, \"positive_feedback_percent\": 99}, \"is_auction\": false, \"buy_it_now\": true, \"free_returns\": true, \"item_location\": \"Located in United States\", \"sponsored\": false, \"prices\": [{\"value\": 6.99, \"raw\": \"$6.99\"}, {\"value\": 24.99, \"raw\": \"$24.99\"}], \"price\": {\"value\": 6.99, \"raw\": \"$6.99\"}}, {\"position\": 2, \"title\": \"LOT 10x SanDisk Ultra 16GB 80MB/s SD SDHC SDSDUNB Camera Card 10 x 16 GB\", \"epid\": \"388262478703\", \"link\": \"https://www.ebay.com/itm/388262478703\", \"image\": \"https://i.ebayimg.com/images/g/6lUAAOSw4Idn~aDN/s-l500.jpg\", \"condition\": \"Open Box\", \"seller_info\": {\"name\": \"memory561\", \"review_count\": 108076, \"positive_feedback_percent\": 99.9}, \"is_auction\": false, \"buy_it_now\": true, \"free_returns\": true, \"item_location\": \"Located in United States\", \"rating\": 5, \"ratings_total\": 14, \"sponsored\": false, \"prices\": [{\"value\": 29.9, \"raw\": \"$29.90\"}], \"price\": {\"value\": 29.9, \"raw\": \"$29.90\"}}, {\"position\": 3, \"title\": \"LOT 10x Genuine SanDisk 16GB Class 4 SD SDHC Flash Memory Card SDSDB-016G lot\", \"epid\": \"405071797164\", \"link\": \"https://www.ebay.com/itm/405071797164\", \"image\": \"https://i.ebayimg.com/images/g/lFMAAOSwjRVnRwBc/s-l140.jpg\", \"condition\": \"Open Box\", \"seller_info\": {\"name\": \"memory561\", \"review_count\": 108076, \"positive_feedback_percent\": 99.9}, \"is_auction\": false, \"buy_it_now\": true, \"free_returns\": true, \"item_location\": \"Located in United States\", \"rating\": 5, \"ratings_total\": 572, \"sponsored\": false, \"prices\": [{\"value\": 39.97, \"raw\": \"$39.97\"}], \"price\": {\"value\": 39.97, \"raw\": \"$39.97\"}}, {\"position\": 4, \"title\": \"SanDisk Ultra Class10 UHS-I SD 32GB 120MB/s SDHC SDXC Memory Card Pack of 10\", \"epid\": \"195480013345\", \"link\": \"https://www.ebay.com/itm/195480013345\", \"image\": \"https://i.ebayimg.com/images/g/S5UAAOSwZkxjd-JX/s-l140.jpg\", \"condition\": \"Brand New\", \"seller_info\": {\"name\": \"gmdbrands\", \"review_count\": 16287, \"positive_feedback_percent\": 99.2}, \"is_auction\": false, \"buy_it_now\": true, \"free_returns\": false, \"item_location\": \"Located in United States\", \"shipping_cost\": 16, \"rating\": 5, \"ratings_total\": 97, \"sponsored\": false, \"prices\": [{\"value\": 56.8, \"raw\": \"$56.80\"}], \"price\": {\"value\": 56.8, \"raw\": \"$56.80\"}}, {\"position\": 5, \"title\": \"Sandisk SD Cards 16GB 32GB 64GB 128GB 256GB Extreme Pro Ultra Memory Cards lot\", \"epid\": \"324078167020\", \"link\": \"https://www.ebay.com/itm/324078167020\", \"image\": \"https://i.ebayimg.com/images/g/PasAAOSwHVJi4Akg/s-l140.jpg\", \"condition\": \"Brand New\", \"seller_info\": {\"name\": \"memorydiscounters\", \"review_count\": 74519, \"positive_feedback_percent\": 99.9}, \"is_auction\": false, \"buy_it_now\": true, \"free_returns\": true, \"item_location\": \"Located in United States\", \"sponsored\": false, \"prices\": [{\"value\": 7.98, \"raw\": \"$7.98\"}, {\"value\": 218.92, \"raw\": \"$218.92\"}], \"price\": {\"value\": 7.98, \"raw\": \"$7.98\"}}, {\"position\": 6, \"title\": \"SanDisk Micro SD Memory Card 32GB 64GB 128GB 256GB 512GB 1TB - Ultra Extreme Lot\", \"epid\": \"203914554350\", \"link\": \"https://www.ebay.com/itm/203914554350\", \"image\": \"https://i.ebayimg.com/images/g/A7wAAOSwemNjTz~l/s-l140.jpg\", \"condition\": \"Brand New\", \"seller_info\": {\"name\": \"terashack\", \"review_count\": 65012, \"positive_feedback_percent\": 99.9}, \"is_auction\": false, \"buy_it_now\": true, \"free_returns\": true, \"item_location\": \"Located in United States\", \"sponsored\": false, \"prices\": [{\"value\": 9.95, \"raw\": \"$9.95\"}, {\"value\": 539.99, \"raw\": \"$539.99\"}], \"price\": {\"value\": 9.95, \"raw\": \"$9.95\"}}, {\"position\": 7, \"title\": \"32GB Sandisk Ultra SD Memory cards 10 pack for Camera / Trail Camera / Computers\", \"epid\": \"274918776662\", \"link\": \"https://www.ebay.com/itm/274918776662\", \"image\": \"https://i.ebayimg.com/images/g/USsAAOSw-DZixfeU/s-l140.jpg\", \"condition\": \"Brand New\", \"seller_info\": {\"name\": \"memorydiscounters\", \"review_count\": 74519, \"positive_feedback_percent\": 99.9}, \"is_auction\": false, \"buy_it_now\": true, \"free_returns\": true, \"item_location\": \"Located in United States\", \"rating\": 5, \"ratings_total\": 6, \"sponsored\": false, \"prices\": [{\"value\": 56.4, \"raw\": \"$56.40\"}], \"price\": {\"value\": 56.4, \"raw\": \"$56.40\"}}, {\"position\": 8, \"title\": \"SanDisk 32GB  Ultra SDHC UHS-I Memory Card Class 10 Full HD 120 MB/S\", \"epid\": \"194233874011\", \"link\": \"https://www.ebay.com/itm/194233874011\", \"image\": \"https://i.ebayimg.com/images/g/KskAAOSwZ3Zg6BB1/s-l140.jpg\", \"condition\": \"Brand New\", \"seller_info\": {\"name\": \"gmdbrands\", \"review_count\": 16287, \"positive_feedback_percent\": 99.2}, \"is_auction\": false, \"buy_it_now\": true, \"free_returns\": false, \"item_location\": \"Located in United States\", \"shipping_cost\": 16, \"rating\": 5, \"ratings_total\": 97, \"sponsored\": false, \"prices\": [{\"value\": 7.99, \"raw\": \"$7.99\"}], \"price\": {\"value\": 7.99, \"raw\": \"$7.99\"}}, {\"position\": 9, \"title\": \"LOT 10x Genuine SanDisk 16GB Class 4 SD SDHC Flash Memory Card SDSDB-016G lot\", \"epid\": \"405071797164\", \"link\": \"https://www.ebay.com/itm/405071797164\", \"image\": \"https://i.ebayimg.com/images/g/lFMAAOSwjRVnRwBc/s-l140.jpg\", \"seller_info\": {\"name\": \"memory561\", \"review_count\": 108076, \"positive_feedback_percent\": 99.9}, \"is_auction\": false, \"buy_it_now\": false, \"free_returns\": false, \"sponsored\": false, \"prices\": [{\"value\": 39.97, \"raw\": \"$39.97\"}], \"price\": {\"value\": 39.97, \"raw\": \"$39.97\"}}, {\"position\": 10, \"title\": \"SanDisk Ultra Class10 UHS-I SD 32GB 120MB/s SDHC SDXC Memory Card Pack of 10\", \"epid\": \"195480013345\", \"link\": \"https://www.ebay.com/itm/195480013345\", \"image\": \"https://i.ebayimg.com/images/g/S5UAAOSwZkxjd-JX/s-l140.jpg\", \"seller_info\": {\"name\": \"gmdbrands\", \"review_count\": 16287, \"positive_feedback_percent\": 99.2}, \"is_auction\": false, \"buy_it_now\": false, \"free_returns\": false, \"sponsored\": false, \"prices\": [{\"value\": 56.8, \"raw\": \"$56.80\"}], \"price\": {\"value\": 56.8, \"raw\": \"$56.80\"}}, {\"position\": 11, \"title\": \"5x SanDisk 64GB Ultra SDHC UHS-I / Class 10 Memory Card, Speed Up to 120MB/s\", \"epid\": \"395527089014\", \"link\": \"https://www.ebay.com/itm/395527089014\", \"image\": \"https://i.ebayimg.com/images/g/HHQAAOSwpqJmkC57/s-l140.jpg\", \"seller_info\": {\"name\": \"memory561\", \"review_count\": 108076, \"positive_feedback_percent\": 99.9}, \"is_auction\": false, \"buy_it_now\": false, \"free_returns\": false, \"sponsored\": false, \"prices\": [{\"value\": 29.99, \"raw\": \"$29.99\"}], \"price\": {\"value\": 29.99, \"raw\": \"$29.99\"}}, {\"position\": 12, \"title\": \"LOT 10x SanDisk SD 64GB Ultra PLUS SDXC UHS-1 Memory Card 130MB/s 64 GB 10 x\", \"epid\": \"405313843474\", \"link\": \"https://www.ebay.com/itm/405313843474\", \"image\": \"https://i.ebayimg.com/images/g/KH4AAOSwTChi88fV/s-l140.jpg\", \"seller_info\": {\"name\": \"memory561\", \"review_count\": 108076, \"positive_feedback_percent\": 99.9}, \"is_auction\": false, \"buy_it_now\": false, \"free_returns\": false, \"sponsored\": false, \"prices\": [{\"value\": 59.99, \"raw\": \"$59.99\"}], \"price\": {\"value\": 59.99, \"raw\": \"$59.99\"}}, {\"position\": 13, \"title\": \"SanDisk CF Extreme 64GB 120MB/s CompactFlash Memory Card SDCFXS-64G 64 GB\", \"epid\": \"382233755733\", \"link\": \"https://www.ebay.com/itm/382233755733\", \"image\": \"https://i.ebayimg.com/images/g/6HsAAOSwdQNZxcJC/s-l140.jpg\", \"seller_info\": {\"name\": \"memory561\", \"review_count\": 108076, \"positive_feedback_percent\": 99.9}, \"is_auction\": false, \"buy_it_now\": false, \"free_returns\": false, \"sponsored\": false, \"prices\": [{\"value\": 29.99, \"raw\": \"$29.99\"}], \"price\": {\"value\": 29.99, \"raw\": \"$29.99\"}}, {\"position\": 14, \"title\": \"Lot of 5 SanDisk Ultra 32 GB SDHC SDXC Class 10 48MB/s Memory Card SDSDUNB-032G\", \"epid\": \"283772390368\", \"link\": \"https://www.ebay.com/itm/283772390368\", \"image\": \"https://i.ebayimg.com/images/g/c~4AAOSw8KxeObN9/s-l140.jpg\", \"seller_info\": {\"name\": \"allizwell2k10\", \"review_count\": 394524, \"positive_feedback_percent\": 99.4}, \"is_auction\": false, \"buy_it_now\": false, \"free_returns\": false, \"sponsored\": false, \"prices\": [{\"value\": 29.99, \"raw\": \"$29.99\"}], \"price\": {\"value\": 29.99, \"raw\": \"$29.99\"}}, {\"position\": 15, \"title\": \"SanDisk ExtremePro 64GB CF memory card SDCFXPS-064G G Extreme Pro 64 GB 160MB/s\", \"epid\": \"404856030762\", \"link\": \"https://www.ebay.com/itm/404856030762\", \"image\": \"https://i.ebayimg.com/images/g/Om4AAOSwHnFVpn1v/s-l140.jpg\", \"seller_info\": {\"name\": \"memory561\", \"review_count\": 108076, \"positive_feedback_percent\": 99.9}, \"is_auction\": false, \"buy_it_now\": false, \"free_returns\": false, \"sponsored\": false, \"prices\": [{\"value\": 34.99, \"raw\": \"$34.99\"}], \"price\": {\"value\": 34.99, \"raw\": \"$34.99\"}}, {\"position\": 16, \"title\": \"SanDisk ExtremePro 32GB CF memory card SDCFXPS-032G G Extreme Pro 32 GB 160MB/s\", \"epid\": \"387440191574\", \"link\": \"https://www.ebay.com/itm/387440191574\", \"image\": \"https://i.ebayimg.com/images/g/RNYAAOSwcgNZGvsF/s-l140.jpg\", \"seller_info\": {\"name\": \"memory561\", \"review_count\": 108076, \"positive_feedback_percent\": 99.9}, \"is_auction\": false, \"buy_it_now\": false, \"free_returns\": false, \"sponsored\": false, \"prices\": [{\"value\": 24.99, \"raw\": \"$24.99\"}], \"price\": {\"value\": 24.99, \"raw\": \"$24.99\"}}, {\"position\": 17, \"title\": \"SanDisk SD 64GB Ultra SDHC UHS-I / Class 10 Memory Card, Speed Up to 120MB/s\", \"epid\": \"157102572225\", \"link\": \"https://www.ebay.com/itm/157102572225\", \"image\": \"https://i.ebayimg.com/images/g/QngAAOSwPtlmjKia/s-l140.jpg\", \"condition\": \"Open Box\", \"seller_info\": {\"name\": \"bytestrading\", \"review_count\": 2038, \"positive_feedback_percent\": 97.6}, \"is_auction\": false, \"buy_it_now\": true, \"free_returns\": false, \"item_location\": \"Located in United States\", \"rating\": 5, \"ratings_total\": 10, \"sponsored\": false, \"prices\": [{\"value\": 7.47, \"raw\": \"$7.47\"}], \"price\": {\"value\": 7.47, \"raw\": \"$7.47\"}}, {\"position\": 18, \"title\": \"Sandisk Micro SD Card Ultra Memory Card 16GB 32GB 64GB 128GB 256GB Wholesale lot\", \"epid\": \"324079092298\", \"link\": \"https://www.ebay.com/itm/324079092298\", \"image\": \"https://i.ebayimg.com/images/g/nGoAAOSwcBRieRjL/s-l140.jpg\", \"condition\": \"Brand New\", \"seller_info\": {\"name\": \"memorydiscounters\", \"review_count\": 74519, \"positive_feedback_percent\": 99.9}, \"is_auction\": false, \"buy_it_now\": true, \"free_returns\": true, \"item_location\": \"Located in United States\", \"sponsored\": false, \"prices\": [{\"value\": 7.94, \"raw\": \"$7.94\"}, {\"value\": 346.76, \"raw\": \"$346.76\"}], \"price\": {\"value\": 7.94, \"raw\": \"$7.94\"}}, {\"position\": 19, \"title\": \"SanDisk Ultra 32GB SD SDHC Flash Memory Card Class 10 120MB/s 533X UHS-I HD\", \"epid\": \"226690841131\", \"link\": \"https://www.ebay.com/itm/226690841131\", \"image\": \"https://i.ebayimg.com/images/g/yC4AAOSwm7tn9hTc/s-l140.jpg\", \"condition\": \"Brand New\", \"seller_info\": {\"name\": \"motoheatusa\", \"review_count\": 60668, \"positive_feedback_percent\": 98.9}, \"is_auction\": false, \"buy_it_now\": true, \"free_returns\": false, \"item_location\": \"Located in United States\", \"sponsored\": false, \"prices\": [{\"value\": 8.6, \"raw\": \"$8.60\"}], \"price\": {\"value\": 8.6, \"raw\": \"$8.60\"}}, {\"position\": 20, \"title\": \"SanDisk Ultra 16GB 80MB/s SD SDHC SDSDUNB Camera Card 16 GB\", \"epid\": \"156904230835\", \"link\": \"https://www.ebay.com/itm/156904230835\", \"image\": \"https://i.ebayimg.com/images/g/HLMAAOSwYz5oAjTN/s-l140.jpg\", \"condition\": \"Open Box\", \"seller_info\": {\"name\": \"bytestrading\", \"review_count\": 2038, \"positive_feedback_percent\": 97.6}, \"is_auction\": false, \"buy_it_now\": false, \"free_returns\": false, \"item_location\": \"Located in United States\", \"rating\": 5, \"ratings_total\": 74, \"sponsored\": false, \"best_offer\": true, \"prices\": [{\"value\": 4.99, \"raw\": \"$4.99\"}], \"price\": {\"value\": 4.99, \"raw\": \"$4.99\"}}, {\"position\": 21, \"title\": \"Sandisk Ultra 32GB SD Memory cards for Camera/ Trail Camera / Computers (5 Pack)\", \"epid\": \"275404469924\", \"link\": \"https://www.ebay.com/itm/275404469924\", \"image\": \"https://i.ebayimg.com/images/g/xqYAAOSwoMli1tkF/s-l140.jpg\", \"condition\": \"Brand New\", \"seller_info\": {\"name\": \"memorydiscounters\", \"review_count\": 74519, \"positive_feedback_percent\": 99.9}, \"is_auction\": false, \"buy_it_now\": true, \"free_returns\": true, \"item_location\": \"Located in United States\", \"rating\": 5, \"ratings_total\": 97, \"sponsored\": false, \"prices\": [{\"value\": 33.3, \"raw\": \"$33.30\"}], \"price\": {\"value\": 33.3, \"raw\": \"$33.30\"}}, {\"position\": 22, \"title\": \"Sandisk SD Extreme 32GB 64GB 128GB 256GB 512GB Memory Card for Nikon Canon Sony\", \"epid\": \"204044516566\", \"link\": \"https://www.ebay.com/itm/204044516566\", \"image\": \"https://i.ebayimg.com/images/g/b-sAAOSwuFFkxpOr/s-l140.jpg\", \"condition\": \"Brand New\", \"seller_info\": {\"name\": \"terashack\", \"review_count\": 65012, \"positive_feedback_percent\": 99.9}, \"is_auction\": false, \"buy_it_now\": true, \"free_returns\": true, \"item_location\": \"Located in United States\", \"sponsored\": false, \"prices\": [{\"value\": 17.99, \"raw\": \"$17.99\"}, {\"value\": 459.99, \"raw\": \"$459.99\"}], \"price\": {\"value\": 17.99, \"raw\": \"$17.99\"}}, {\"position\": 23, \"title\": \"NEW 5x Lot SanDisk Ultra 16GB 80MB/s SD SDHC SDSDUNB Camera Card Lot 5 x 16 GB\", \"epid\": \"405765001982\", \"link\": \"https://www.ebay.com/itm/405765001982\", \"image\": \"https://i.ebayimg.com/images/g/6VEAAOSwZG9n~Z7D/s-l140.jpg\", \"condition\": \"Open Box\", \"seller_info\": {\"name\": \"memory561\", \"review_count\": 108076, \"positive_feedback_percent\": 99.9}, \"is_auction\": false, \"buy_it_now\": true, \"free_returns\": true, \"item_location\": \"Located in United States\", \"rating\": 5, \"ratings_total\": 14, \"sponsored\": false, \"prices\": [{\"value\": 19.99, \"raw\": \"$19.99\"}], \"price\": {\"value\": 19.99, \"raw\": \"$19.99\"}}, {\"position\": 24, \"title\": \"Sandisk SD Extreme PRO 32GB 64GB 128GB 256GB 512GB 1TB Memory Card Nikon Canon\", \"epid\": \"204440376680\", \"link\": \"https://www.ebay.com/itm/204440376680\", \"image\": \"https://i.ebayimg.com/images/g/fvoAAOSwKytlTAQz/s-l140.jpg\", \"condition\": \"Brand New\", \"seller_info\": {\"name\": \"terashack\", \"review_count\": 65012, \"positive_feedback_percent\": 99.9}, \"is_auction\": false, \"buy_it_now\": true, \"free_returns\": true, \"item_location\": \"Located in United States\", \"sponsored\": false, \"prices\": [{\"value\": 19.99, \"raw\": \"$19.99\"}, {\"value\": 527.99, \"raw\": \"$527.99\"}], \"price\": {\"value\": 19.99, \"raw\": \"$19.99\"}}, {\"position\": 25, \"title\": \"SanDisk High Endurance & Max Endurance Micro SD Memory Cards 64GB 128GB 256GB\", \"epid\": \"274561375765\", \"link\": \"https://www.ebay.com/itm/274561375765\", \"image\": \"https://i.ebayimg.com/images/g/K7IAAOSw~n1ieR0K/s-l140.jpg\", \"condition\": \"Brand New\", \"seller_info\": {\"name\": \"memorydiscounters\", \"review_count\": 74519, \"positive_feedback_percent\": 99.9}, \"is_auction\": false, \"buy_it_now\": true, \"free_returns\": true, \"item_location\": \"Located in United States\", \"sponsored\": false, \"prices\": [{\"value\": 9.98, \"raw\": \"$9.98\"}, {\"value\": 271.57, \"raw\": \"$271.57\"}], \"price\": {\"value\": 9.98, \"raw\": \"$9.98\"}}, {\"position\": 26, \"title\": \"SanDisk Ultra 64 GB SD SDXC Memory Card SDSDUNR-064G-GN3IN 100MB/s\", \"epid\": \"255763788690\", \"link\": \"https://www.ebay.com/itm/255763788690\", \"image\": \"https://i.ebayimg.com/images/g/bewAAOSw9SNjOISc/s-l140.jpg\", \"condition\": \"Brand New\", \"seller_info\": {\"name\": \"allizwell2k10\", \"review_count\": 394524, \"positive_feedback_percent\": 99.4}, \"is_auction\": false, \"buy_it_now\": true, \"free_returns\": true, \"item_location\": \"Located in United States\", \"shipping_cost\": 18, \"rating\": 5, \"ratings_total\": 32, \"sponsored\": false, \"prices\": [{\"value\": 9.99, \"raw\": \"$9.99\"}], \"price\": {\"value\": 9.99, \"raw\": \"$9.99\"}}, {\"position\": 27, \"title\": \"SanDisk Ultra 16GB 32GB 64GB 100MB/s C10 SD SDHC SDXC SDSDUNR Camera Card Lot\", \"epid\": \"143005438519\", \"link\": \"https://www.ebay.com/itm/143005438519\", \"image\": \"https://i.ebayimg.com/images/g/4ToAAOSwQ65laO03/s-l140.jpg\", \"condition\": \"Brand New\", \"seller_info\": {\"name\": \"oempcworld\", \"review_count\": 64243, \"positive_feedback_percent\": 99.5}, \"is_auction\": false, \"buy_it_now\": true, \"free_returns\": false, \"item_location\": \"Located in United States\", \"shipping_cost\": 6.55, \"sponsored\": false, \"prices\": [{\"value\": 29.1, \"raw\": \"$29.10\"}, {\"value\": 225.3, \"raw\": \"$225.30\"}], \"price\": {\"value\": 29.1, \"raw\": \"$29.10\"}}, {\"position\": 28, \"title\": \"16GB Sandisk Ultra C10 SD cards 10 pack for Camera / Trail Camera / Computers\", \"epid\": \"274947857469\", \"link\": \"https://www.ebay.com/itm/274947857469\", \"image\": \"https://i.ebayimg.com/images/g/bcwAAOSwsXFmcY5i/s-l140.jpg\", \"condition\": \"Brand New\", \"seller_info\": {\"name\": \"memorydiscounters\", \"review_count\": 74519, \"positive_feedback_percent\": 99.9}, \"is_auction\": false, \"buy_it_now\": true, \"free_returns\": true, \"item_location\": \"Located in United States\", \"rating\": 4.5, \"ratings_total\": 20, \"sponsored\": false, \"prices\": [{\"value\": 51.37, \"raw\": \"$51.37\"}], \"price\": {\"value\": 51.37, \"raw\": \"$51.37\"}}, {\"position\": 29, \"title\": \"Lot of 5 New SanDisk 4gb SD Memory Cards - 4 gb SanDisk SD Memory Cards SDHC\", \"epid\": \"356504531040\", \"link\": \"https://www.ebay.com/itm/356504531040\", \"image\": \"https://i.ebayimg.com/images/g/8CkAAOSwwihnlV0j/s-l140.jpg\", \"condition\": \"Open Box\", \"seller_info\": {\"name\": \"ballcourt155ab\", \"review_count\": 18525, \"positive_feedback_percent\": 100}, \"is_auction\": false, \"buy_it_now\": true, \"free_returns\": true, \"item_location\": \"Located in United States\", \"sponsored\": false, \"prices\": [{\"value\": 41.53, \"raw\": \"$41.53\"}], \"price\": {\"value\": 41.53, \"raw\": \"$41.53\"}}, {\"position\": 30, \"title\": \"SanDisk 128GB micro SD SDXC Card 100MB/s Ultra 128G Class 10 UHS-1 A1\", \"epid\": \"253152315853\", \"link\": \"https://www.ebay.com/itm/253152315853\", \"image\": \"https://i.ebayimg.com/images/g/Ry8AAOSwarNZucp7/s-l140.jpg\", \"condition\": \"Brand New\", \"seller_info\": {\"name\": \"allizwell2k10\", \"review_count\": 394524, \"positive_feedback_percent\": 99.4}, \"is_auction\": false, \"buy_it_now\": true, \"free_returns\": true, \"item_location\": \"Located in United States\", \"shipping_cost\": 18, \"rating\": 4.5, \"ratings_total\": 582, \"sponsored\": false, \"prices\": [{\"value\": 13.5, \"raw\": \"$13.50\"}], \"price\": {\"value\": 13.5, \"raw\": \"$13.50\"}}, {\"position\": 31, \"title\": \"SanDisk Micro SD Card Ultra 16GB 32GB 64GB 128GB 256GB Class 10 TF Wholesale Lot\", \"epid\": \"156415678580\", \"link\": \"https://www.ebay.com/itm/156415678580\", \"image\": \"https://i.ebayimg.com/images/g/zzsAAOSwY3tm62Fp/s-l140.jpg\", \"condition\": \"Brand New\", \"seller_info\": {\"name\": \"darkspear\", \"review_count\": 2609, \"positive_feedback_percent\": 98.5}, \"is_auction\": false, \"buy_it_now\": true, \"free_returns\": false, \"item_location\": \"Located in United States\", \"sponsored\": false, \"prices\": [{\"value\": 4.8, \"raw\": \"$4.80\"}, {\"value\": 169.99, \"raw\": \"$169.99\"}], \"price\": {\"value\": 4.8, \"raw\": \"$4.80\"}}, {\"position\": 32, \"title\": \"5x SanDisk 64GB Ultra SDHC UHS-I / Class 10 Memory Card, Speed Up to 120MB/s\", \"epid\": \"395527089014\", \"link\": \"https://www.ebay.com/itm/395527089014\", \"image\": \"https://i.ebayimg.com/images/g/HHQAAOSwpqJmkC57/s-l140.jpg\", \"condition\": \"Open Box\", \"seller_info\": {\"name\": \"memory561\", \"review_count\": 108076, \"positive_feedback_percent\": 99.9}, \"is_auction\": false, \"buy_it_now\": true, \"free_returns\": true, \"item_location\": \"Located in United States\", \"sponsored\": false, \"prices\": [{\"value\": 29.99, \"raw\": \"$29.99\"}], \"price\": {\"value\": 29.99, \"raw\": \"$29.99\"}}, {\"position\": 33, \"title\": \"Sandisk Micro SD Card 128GB 256GB Extreme Pro Ultra Memory Cards lot 170MB/s New\", \"epid\": \"176764082782\", \"link\": \"https://www.ebay.com/itm/176764082782\", \"image\": \"https://i.ebayimg.com/images/g/RmkAAOSwbFdncg4m/s-l140.jpg\", \"condition\": \"Brand New\", \"seller_info\": {\"name\": \"pokertriest\", \"review_count\": 649, \"positive_feedback_percent\": 98.6}, \"is_auction\": false, \"buy_it_now\": true, \"free_returns\": true, \"item_location\": \"Located in United States\", \"sponsored\": false, \"prices\": [{\"value\": 13.99, \"raw\": \"$13.99\"}, {\"value\": 24.99, \"raw\": \"$24.99\"}], \"price\": {\"value\": 13.99, \"raw\": \"$13.99\"}}, {\"position\": 34, \"title\": \"SanDisk 128GB Ultra microSDXC UHS-I Memory Card 100Mb/s -  SDSQUAR-128G-GN6MA\", \"epid\": \"156413276779\", \"link\": \"https://www.ebay.com/itm/156413276779\", \"image\": \"https://i.ebayimg.com/images/g/dAYAAOSw8Idm37LO/s-l140.jpg\", \"condition\": \"Open Box\", \"seller_info\": {\"name\": \"bytestrading\", \"review_count\": 2038, \"positive_feedback_percent\": 97.6}, \"is_auction\": false, \"buy_it_now\": true, \"free_returns\": false, \"item_location\": \"Located in United States\", \"rating\": 4.5, \"ratings_total\": 582, \"sponsored\": false, \"prices\": [{\"value\": 9.99, \"raw\": \"$9.99\"}], \"price\": {\"value\": 9.99, \"raw\": \"$9.99\"}}, {\"position\": 35, \"title\": \"Lot of 5 SanDisk Ultra 32 GB SDHC SDXC Class 10 48MB/s Memory Card SDSDUNB-032G\", \"epid\": \"283772390368\", \"link\": \"https://www.ebay.com/itm/283772390368\", \"image\": \"https://i.ebayimg.com/images/g/c~4AAOSw8KxeObN9/s-l140.jpg\", \"condition\": \"Brand New\", \"seller_info\": {\"name\": \"allizwell2k10\", \"review_count\": 394524, \"positive_feedback_percent\": 99.4}, \"is_auction\": false, \"buy_it_now\": true, \"free_returns\": true, \"item_location\": \"Located in United States\", \"shipping_cost\": 18, \"sponsored\": false, \"prices\": [{\"value\": 29.99, \"raw\": \"$29.99\"}], \"price\": {\"value\": 29.99, \"raw\": \"$29.99\"}}, {\"position\": 36, \"title\": \"SanDisk Micro SD Card Ultra 16GB 32GB 64GB 128GB 256GB TF SDHC/SDXC Class 10 Lot\", \"epid\": \"324736594273\", \"link\": \"https://www.ebay.com/itm/324736594273\", \"image\": \"https://i.ebayimg.com/images/g/mFYAAOSwb2xc-H1q/s-l140.jpg\", \"condition\": \"Brand New\", \"seller_info\": {\"name\": \"motoheatusa\", \"review_count\": 60668, \"positive_feedback_percent\": 98.9}, \"is_auction\": false, \"buy_it_now\": true, \"free_returns\": true, \"item_location\": \"Located in United States\", \"sponsored\": false, \"prices\": [{\"value\": 4.9, \"raw\": \"$4.90\"}, {\"value\": 23.8, \"raw\": \"$23.80\"}], \"price\": {\"value\": 4.9, \"raw\": \"$4.90\"}}, {\"position\": 37, \"title\": \"LOT 10x SanDisk SD 64GB Ultra PLUS SDXC UHS-1 Memory Card 130MB/s 64 GB 10 x\", \"epid\": \"405313843474\", \"link\": \"https://www.ebay.com/itm/405313843474\", \"image\": \"https://i.ebayimg.com/images/g/KH4AAOSwTChi88fV/s-l140.jpg\", \"condition\": \"Open Box\", \"seller_info\": {\"name\": \"memory561\", \"review_count\": 108076, \"positive_feedback_percent\": 99.9}, \"is_auction\": false, \"buy_it_now\": true, \"free_returns\": true, \"item_location\": \"Located in United States\", \"sponsored\": false, \"prices\": [{\"value\": 59.99, \"raw\": \"$59.99\"}], \"price\": {\"value\": 59.99, \"raw\": \"$59.99\"}}, {\"position\": 38, \"title\": \"SanDisk 32GB Extreme C10 V30 UHS-I U3 SD 100MBs SDHC Memory card Pack of 5 Lot\", \"epid\": \"195435460588\", \"link\": \"https://www.ebay.com/itm/195435460588\", \"image\": \"https://i.ebayimg.com/images/g/BOMAAOSwBRVjWTcJ/s-l140.jpg\", \"condition\": \"Brand New\", \"seller_info\": {\"name\": \"firstchoiceonline\", \"review_count\": 57230, \"positive_feedback_percent\": 98.9}, \"is_auction\": false, \"buy_it_now\": true, \"free_returns\": true, \"item_location\": \"Located in United States\", \"shipping_cost\": 16, \"rating\": 5, \"ratings_total\": 30, \"sponsored\": false, \"prices\": [{\"value\": 42.49, \"raw\": \"$42.49\"}], \"price\": {\"value\": 42.49, \"raw\": \"$42.49\"}}, {\"position\": 39, \"title\": \"SanDisk 32GB Extreme microSDHC UHS-I Memory Card with Adapter\", \"epid\": \"187203518111\", \"link\": \"https://www.ebay.com/itm/187203518111\", \"image\": \"https://i.ebayimg.com/images/g/vCcAAOSw3BRoG6OZ/s-l140.jpg\", \"condition\": \"Brand New\", \"seller_info\": {\"name\": \"ppr\", \"review_count\": 716, \"positive_feedback_percent\": 95}, \"is_auction\": false, \"buy_it_now\": false, \"free_returns\": false, \"item_location\": \"Located in United States\", \"sponsored\": false, \"best_offer\": true, \"prices\": [{\"value\": 7.99, \"raw\": \"$7.99\"}], \"price\": {\"value\": 7.99, \"raw\": \"$7.99\"}}, {\"position\": 40, \"title\": \"SanDisk CF Extreme 64GB 120MB/s CompactFlash Memory Card SDCFXS-64G 64 GB\", \"epid\": \"382233755733\", \"link\": \"https://www.ebay.com/itm/382233755733\", \"image\": \"https://i.ebayimg.com/images/g/6HsAAOSwdQNZxcJC/s-l140.jpg\", \"condition\": \"Pre-Owned\", \"seller_info\": {\"name\": \"memory561\", \"review_count\": 108076, \"positive_feedback_percent\": 99.9}, \"is_auction\": false, \"buy_it_now\": true, \"free_returns\": true, \"item_location\": \"Located in United States\", \"sponsored\": false, \"prices\": [{\"value\": 29.99, \"raw\": \"$29.99\"}], \"price\": {\"value\": 29.99, \"raw\": \"$29.99\"}}, {\"position\": 41, \"title\": \"SanDisk Micro SD Card Ultra 16GB 32GB 64GB 128GB 256GB TF SDHC/SDXC Class 10\", \"epid\": \"156319720929\", \"link\": \"https://www.ebay.com/itm/156319720929\", \"image\": \"https://i.ebayimg.com/images/g/kFQAAOSwiydm40su/s-l140.jpg\", \"condition\": \"Brand New\", \"seller_info\": {\"name\": \"darkspear\", \"review_count\": 2609, \"positive_feedback_percent\": 98.5}, \"is_auction\": false, \"buy_it_now\": true, \"free_returns\": false, \"item_location\": \"Located in United States\", \"sponsored\": false, \"prices\": [{\"value\": 4.8, \"raw\": \"$4.80\"}, {\"value\": 22.99, \"raw\": \"$22.99\"}], \"price\": {\"value\": 4.8, \"raw\": \"$4.80\"}}, {\"position\": 42, \"title\": \"LOT 10x SanDisk Ultra SDXC 64GB Class 10 - SD 64 GB memory card 64G G 10 x\", \"epid\": \"388613292123\", \"link\": \"https://www.ebay.com/itm/388613292123\", \"image\": \"https://i.ebayimg.com/images/g/3joAAOSwyHFe~Iao/s-l140.jpg\", \"condition\": \"Pre-Owned\", \"seller_info\": {\"name\": \"memory561\", \"review_count\": 108076, \"positive_feedback_percent\": 99.9}, \"is_auction\": false, \"buy_it_now\": false, \"free_returns\": true, \"item_location\": \"Located in United States\", \"rating\": 5, \"ratings_total\": 23, \"sponsored\": false, \"best_offer\": true, \"prices\": [{\"value\": 44.99, \"raw\": \"$44.99\"}], \"price\": {\"value\": 44.99, \"raw\": \"$44.99\"}}, {\"position\": 43, \"title\": \"SanDisk Ultra 128 GB SD SDXC Memory Card SDSDUNR-128G-GN3IN 100mbps\", \"epid\": \"284993211913\", \"link\": \"https://www.ebay.com/itm/284993211913\", \"image\": \"https://i.ebayimg.com/images/g/UYQAAOSw~wdjOHpe/s-l140.jpg\", \"condition\": \"Brand New\", \"seller_info\": {\"name\": \"allizwell2k10\", \"review_count\": 394524, \"positive_feedback_percent\": 99.4}, \"is_auction\": false, \"buy_it_now\": true, \"free_returns\": true, \"item_location\": \"Located in United States\", \"shipping_cost\": 18, \"rating\": 5, \"ratings_total\": 30, \"sponsored\": false, \"prices\": [{\"value\": 13.25, \"raw\": \"$13.25\"}], \"price\": {\"value\": 13.25, \"raw\": \"$13.25\"}}, {\"position\": 44, \"title\": \"SanDisk Ultra 64 GB SDXC SDHC SD Class 10 30MB/s 200x Memory Card SDSDU-064G-U46\", \"epid\": \"157118951386\", \"link\": \"https://www.ebay.com/itm/157118951386\", \"image\": \"https://i.ebayimg.com/images/g/28wAAOSwTY5oVyly/s-l140.jpg\", \"condition\": \"Pre-Owned\", \"seller_info\": {\"name\": \"bytestrading\", \"review_count\": 2038, \"positive_feedback_percent\": 97.6}, \"is_auction\": false, \"buy_it_now\": false, \"free_returns\": false, \"item_location\": \"Located in United States\", \"rating\": 4.5, \"ratings_total\": 35, \"sponsored\": false, \"best_offer\": true, \"prices\": [{\"value\": 5.99, \"raw\": \"$5.99\"}], \"price\": {\"value\": 5.99, \"raw\": \"$5.99\"}}, {\"position\": 45, \"title\": \"Sandisk Extreme Pro SD Memory Card Class 10 4K UHS-1 V30 Full HD Video U3\", \"epid\": \"325736231891\", \"link\": \"https://www.ebay.com/itm/325736231891\", \"image\": \"https://i.ebayimg.com/images/g/CpsAAOSw1rNi3~5P/s-l140.jpg\", \"condition\": \"Brand New\", \"seller_info\": {\"name\": \"memorydiscounters\", \"review_count\": 74519, \"positive_feedback_percent\": 99.9}, \"is_auction\": false, \"buy_it_now\": true, \"free_returns\": true, \"item_location\": \"Located in United States\", \"rating\": 5, \"ratings_total\": 21, \"sponsored\": false, \"prices\": [{\"value\": 12.94, \"raw\": \"$12.94\"}, {\"value\": 192.4, \"raw\": \"$192.40\"}], \"price\": {\"value\": 12.94, \"raw\": \"$12.94\"}}, {\"position\": 46, \"title\": \"SanDisk Ultra MicroSD 16GB 32GB 64GB 128GB 256GB SD Memory TF Card Reader Lot\", \"epid\": \"224499716435\", \"link\": \"https://www.ebay.com/itm/224499716435\", \"image\": \"https://i.ebayimg.com/images/g/3VkAAOSw1dRnoV81/s-l140.jpg\", \"condition\": \"Brand New\", \"seller_info\": {\"name\": \"motoheatusa\", \"review_count\": 60668, \"positive_feedback_percent\": 98.9}, \"is_auction\": false, \"buy_it_now\": true, \"free_returns\": false, \"item_location\": \"Located in United States\", \"sponsored\": false, \"prices\": [{\"value\": 4.8, \"raw\": \"$4.80\"}, {\"value\": 169.99, \"raw\": \"$169.99\"}], \"price\": {\"value\": 4.8, \"raw\": \"$4.80\"}}, {\"position\": 47, \"title\": \"\\ud83d\\udd25\\ud83d\\udd25 2 Pack x Genuine SanDisk 2GB SD CARD CLASS 2 SDHC Flash Memory Card \\ud83d\\udd25\\ud83d\\udd25\", \"epid\": \"186703401927\", \"link\": \"https://www.ebay.com/itm/186703401927\", \"image\": \"https://i.ebayimg.com/images/g/MgAAAOSwz1dm9WeL/s-l140.jpg\", \"condition\": \"Pre-Owned\", \"seller_info\": {\"name\": \"scannerspares\", \"review_count\": 3953, \"positive_feedback_percent\": 100}, \"is_auction\": false, \"buy_it_now\": false, \"free_returns\": true, \"item_location\": \"Located in United States\", \"sponsored\": false, \"best_offer\": true, \"prices\": [{\"value\": 20, \"raw\": \"$20.00\"}], \"price\": {\"value\": 20, \"raw\": \"$20.00\"}}, {\"position\": 48, \"title\": \"SanDisk ExtremePro 64GB CF memory card SDCFXPS-064G G Extreme Pro 64 GB 160MB/s\", \"epid\": \"404856030762\", \"link\": \"https://www.ebay.com/itm/404856030762\", \"image\": \"https://i.ebayimg.com/images/g/Om4AAOSwHnFVpn1v/s-l140.jpg\", \"condition\": \"Pre-Owned\", \"seller_info\": {\"name\": \"memory561\", \"review_count\": 108076, \"positive_feedback_percent\": 99.9}, \"is_auction\": false, \"buy_it_now\": true, \"free_returns\": true, \"item_location\": \"Located in United States\", \"rating\": 5, \"ratings_total\": 23, \"sponsored\": false, \"prices\": [{\"value\": 34.99, \"raw\": \"$34.99\"}], \"price\": {\"value\": 34.99, \"raw\": \"$34.99\"}}, {\"position\": 49, \"title\": \"SanDisk Ultra 64GB 80MB/s SDXC SDHC Class 10 533x SD Camera Flash Memory Card\", \"epid\": \"332426273325\", \"link\": \"https://www.ebay.com/itm/332426273325\", \"image\": \"https://i.ebayimg.com/images/g/4EsAAOSwEEBZ8YzQ/s-l140.jpg\", \"condition\": \"Brand New\", \"seller_info\": {\"name\": \"allizwell2k10\", \"review_count\": 394524, \"positive_feedback_percent\": 99.4}, \"is_auction\": false, \"buy_it_now\": true, \"free_returns\": true, \"item_location\": \"Located in United States\", \"shipping_cost\": 18, \"rating\": 5, \"ratings_total\": 192, \"sponsored\": false, \"prices\": [{\"value\": 10.99, \"raw\": \"$10.99\"}], \"price\": {\"value\": 10.99, \"raw\": \"$10.99\"}}, {\"position\": 50, \"title\": \"Sandisk Micro SD Card 64GB 128GB 256GB 512GB Extreme Pro Ultra Memory Cards lot\", \"epid\": \"324275407863\", \"link\": \"https://www.ebay.com/itm/324275407863\", \"image\": \"https://i.ebayimg.com/images/g/30wAAOSw0kBieRqi/s-l140.jpg\", \"condition\": \"Brand New\", \"seller_info\": {\"name\": \"memorydiscounters\", \"review_count\": 74519, \"positive_feedback_percent\": 99.9}, \"is_auction\": false, \"buy_it_now\": true, \"free_returns\": true, \"item_location\": \"Located in United States\", \"sponsored\": false, \"prices\": [{\"value\": 6.98, \"raw\": \"$6.98\"}, {\"value\": 346.76, \"raw\": \"$346.76\"}], \"price\": {\"value\": 6.98, \"raw\": \"$6.98\"}}, {\"position\": 51, \"title\": \"32GB Sandisk Extreme Pro SD Memory Cards for Camera/Trail Cam/Computer (10 Pack)\", \"epid\": \"325335946501\", \"link\": \"https://www.ebay.com/itm/325335946501\", \"image\": \"https://i.ebayimg.com/images/g/nokAAOSwCjRjGfsM/s-l140.jpg\", \"condition\": \"Brand New\", \"seller_info\": {\"name\": \"memorydiscounters\", \"review_count\": 74519, \"positive_feedback_percent\": 99.9}, \"is_auction\": false, \"buy_it_now\": true, \"free_returns\": true, \"item_location\": \"Located in United States\", \"rating\": 5, \"ratings_total\": 10, \"sponsored\": false, \"prices\": [{\"value\": 99.92, \"raw\": \"$99.92\"}], \"price\": {\"value\": 99.92, \"raw\": \"$99.92\"}}, {\"position\": 52, \"title\": \"LOT 10x SanDisk Ultra 16GB 80MB/s SD SDHC SDSDUNB Camera Card Class 10 FULL HD\", \"epid\": \"326560504946\", \"link\": \"https://www.ebay.com/itm/326560504946\", \"image\": \"https://i.ebayimg.com/images/g/08UAAOSwxPVoFEt5/s-l140.jpg\", \"condition\": \"Open Box\", \"seller_info\": {\"name\": \"motoheatusa\", \"review_count\": 60668, \"positive_feedback_percent\": 98.9}, \"is_auction\": false, \"buy_it_now\": true, \"free_returns\": false, \"item_location\": \"Located in United States\", \"rating\": 5, \"ratings_total\": 14, \"sponsored\": false, \"prices\": [{\"value\": 29.9, \"raw\": \"$29.90\"}], \"price\": {\"value\": 29.9, \"raw\": \"$29.90\"}}, {\"position\": 53, \"title\": \"Sandisk SD Cards 16GB 32GB 64GB 128GB 256GB Extreme Ultra Memory Cards lot\", \"epid\": \"275316711001\", \"link\": \"https://www.ebay.com/itm/275316711001\", \"image\": \"https://i.ebayimg.com/images/g/FGwAAOSwsEZi4Ad5/s-l140.jpg\", \"condition\": \"Brand New\", \"seller_info\": {\"name\": \"memorydiscounters\", \"review_count\": 74519, \"positive_feedback_percent\": 99.9}, \"is_auction\": false, \"buy_it_now\": true, \"free_returns\": true, \"item_location\": \"Located in United States\", \"sponsored\": false, \"prices\": [{\"value\": 7.98, \"raw\": \"$7.98\"}, {\"value\": 71.74, \"raw\": \"$71.74\"}], \"price\": {\"value\": 7.98, \"raw\": \"$7.98\"}}, {\"position\": 54, \"title\": \"New SanDisk 32GB SD SDHC Class 4 Camera Flash Memory Card 32 G SDSDB-032G\", \"epid\": \"281462950758\", \"link\": \"https://www.ebay.com/itm/281462950758\", \"image\": \"https://i.ebayimg.com/images/g/en4AAOSwT6pV1Rrm/s-l140.jpg\", \"condition\": \"Brand New\", \"seller_info\": {\"name\": \"allizwell2k10\", \"review_count\": 394524, \"positive_feedback_percent\": 99.4}, \"is_auction\": false, \"buy_it_now\": true, \"free_returns\": true, \"item_location\": \"Located in United States\", \"shipping_cost\": 18, \"rating\": 5, \"ratings_total\": 417, \"sponsored\": false, \"prices\": [{\"value\": 8.25, \"raw\": \"$8.25\"}], \"price\": {\"value\": 8.25, \"raw\": \"$8.25\"}}, {\"position\": 55, \"title\": \"SanDisk Ultra 32 GB SDHC SDXC SD Class 10 48MB/s 320x Memory Card SDSDUNB-032G\", \"epid\": \"282589308422\", \"link\": \"https://www.ebay.com/itm/282589308422\", \"image\": \"https://i.ebayimg.com/images/g/1jIAAOSw14xWJY8h/s-l140.jpg\", \"condition\": \"Brand New\", \"seller_info\": {\"name\": \"allizwell2k10\", \"review_count\": 394524, \"positive_feedback_percent\": 99.4}, \"is_auction\": false, \"buy_it_now\": true, \"free_returns\": true, \"item_location\": \"Located in United States\", \"shipping_cost\": 18, \"rating\": 5, \"ratings_total\": 403, \"sponsored\": false, \"prices\": [{\"value\": 8.25, \"raw\": \"$8.25\"}], \"price\": {\"value\": 8.25, \"raw\": \"$8.25\"}}, {\"position\": 56, \"title\": \"SanDisk High Endurance & Max Endurance 64GB 128GB 256GB MicroSD Memory Cards\", \"epid\": \"275192526191\", \"link\": \"https://www.ebay.com/itm/275192526191\", \"image\": \"https://i.ebayimg.com/images/g/oFUAAOSwf8hieRzM/s-l140.jpg\", \"condition\": \"Brand New\", \"seller_info\": {\"name\": \"memorydiscounters\", \"review_count\": 74519, \"positive_feedback_percent\": 99.9}, \"is_auction\": false, \"buy_it_now\": true, \"free_returns\": true, \"item_location\": \"Located in United States\", \"sponsored\": false, \"prices\": [{\"value\": 9.98, \"raw\": \"$9.98\"}, {\"value\": 59.01, \"raw\": \"$59.01\"}], \"price\": {\"value\": 9.98, \"raw\": \"$9.98\"}}, {\"position\": 57, \"title\": \"SanDisk Micro SD 32GB 16GB 8GB SD HC TF Memory Card Class 4 C4 FAST SHIPPING\", \"epid\": \"322726259110\", \"link\": \"https://www.ebay.com/itm/322726259110\", \"image\": \"https://i.ebayimg.com/images/g/ybcAAOSwxnFieR15/s-l140.jpg\", \"condition\": \"Brand New\", \"seller_info\": {\"name\": \"memorydiscounters\", \"review_count\": 74519, \"positive_feedback_percent\": 99.9}, \"is_auction\": false, \"buy_it_now\": true, \"free_returns\": true, \"item_location\": \"Located in United States\", \"sponsored\": false, \"prices\": [{\"value\": 6.98, \"raw\": \"$6.98\"}, {\"value\": 47.97, \"raw\": \"$47.97\"}], \"price\": {\"value\": 6.98, \"raw\": \"$6.98\"}}, {\"position\": 58, \"title\": \"SanDisk 32GB Extreme Class10 V30 UHS-I U3 SD card 100MBs Full SD HC Memory card\", \"epid\": \"195214263197\", \"link\": \"https://www.ebay.com/itm/195214263197\", \"image\": \"https://i.ebayimg.com/images/g/BssAAOSwE5tlvAMJ/s-l140.jpg\", \"condition\": \"Brand New\", \"seller_info\": {\"name\": \"gmdbrands\", \"review_count\": 16287, \"positive_feedback_percent\": 99.2}, \"is_auction\": false, \"buy_it_now\": true, \"free_returns\": false, \"item_location\": \"Located in United States\", \"shipping_cost\": 16, \"rating\": 5, \"ratings_total\": 30, \"sponsored\": false, \"prices\": [{\"value\": 12.99, \"raw\": \"$12.99\"}], \"price\": {\"value\": 12.99, \"raw\": \"$12.99\"}}, {\"position\": 59, \"title\": \"Sandisk SD Memory Cards for CPAP Machines 8GB 16GB 32GB Replacement Lot\", \"epid\": \"325534794922\", \"link\": \"https://www.ebay.com/itm/325534794922\", \"image\": \"https://i.ebayimg.com/images/g/KdcAAOSwTXRj6p~C/s-l140.jpg\", \"condition\": \"Brand New\", \"seller_info\": {\"name\": \"memorydiscounters\", \"review_count\": 74519, \"positive_feedback_percent\": 99.9}, \"is_auction\": false, \"buy_it_now\": true, \"free_returns\": true, \"item_location\": \"Located in United States\", \"sponsored\": false, \"prices\": [{\"value\": 7.98, \"raw\": \"$7.98\"}, {\"value\": 54.63, \"raw\": \"$54.63\"}], \"price\": {\"value\": 7.98, \"raw\": \"$7.98\"}}, {\"position\": 60, \"title\": \"Lot of 2 SanDisk 32GB = 64GB SD SDHC Class 4 Camera Flash Memory Card SDSDB-032G\", \"epid\": \"331634660766\", \"link\": \"https://www.ebay.com/itm/331634660766\", \"image\": \"https://i.ebayimg.com/images/g/IRMAAOSw3ydV183w/s-l140.jpg\", \"condition\": \"Brand New\", \"seller_info\": {\"name\": \"allizwell2k10\", \"review_count\": 394524, \"positive_feedback_percent\": 99.4}, \"is_auction\": false, \"buy_it_now\": true, \"free_returns\": true, \"item_location\": \"Located in United States\", \"shipping_cost\": 18, \"sponsored\": false, \"prices\": [{\"value\": 13.99, \"raw\": \"$13.99\"}], \"price\": {\"value\": 13.99, \"raw\": \"$13.99\"}}, {\"position\": 61, \"title\": \"OPEN BOX SanDisk Extreme PRO 256GB SD SDXC Card 200MB/s Class 10 UHS-1 Memory\", \"epid\": \"176806019335\", \"link\": \"https://www.ebay.com/itm/176806019335\", \"image\": \"https://i.ebayimg.com/images/g/rTMAAOSwWaJnlHm7/s-l140.jpg\", \"condition\": \"Open Box\", \"seller_info\": {\"name\": \"ft.computers\", \"review_count\": 1059, \"positive_feedback_percent\": 99.8}, \"is_auction\": false, \"buy_it_now\": true, \"free_returns\": true, \"item_location\": \"Located in United States\", \"rating\": 4.5, \"ratings_total\": 12, \"sponsored\": false, \"prices\": [{\"value\": 24.99, \"raw\": \"$24.99\"}], \"price\": {\"value\": 24.99, \"raw\": \"$24.99\"}}, {\"position\": 62, \"title\": \"Sandisk Ultra 16GB SD cards for Camera / Trail Camera / Computers (5 Pack)\", \"epid\": \"275404467134\", \"link\": \"https://www.ebay.com/itm/275404467134\", \"image\": \"https://i.ebayimg.com/images/g/-e4AAOSw8aBi1t4-/s-l140.jpg\", \"condition\": \"Brand New\", \"seller_info\": {\"name\": \"memorydiscounters\", \"review_count\": 74519, \"positive_feedback_percent\": 99.9}, \"is_auction\": false, \"buy_it_now\": true, \"free_returns\": true, \"item_location\": \"Located in United States\", \"sponsored\": false, \"prices\": [{\"value\": 29.76, \"raw\": \"$29.76\"}], \"price\": {\"value\": 29.76, \"raw\": \"$29.76\"}}, {\"position\": 63, \"title\": \"SanDisk Ultra 32 GB SDHC SDXC SD Class 10 100MB/s 32GB Memory Card\", \"epid\": \"331807629806\", \"link\": \"https://www.ebay.com/itm/331807629806\", \"image\": \"https://i.ebayimg.com/images/g/gmgAAOSwhbFhAFsQ/s-l140.jpg\", \"condition\": \"Open Box\", \"seller_info\": {\"name\": \"allinthedeal\", \"review_count\": 50025, \"positive_feedback_percent\": 99.3}, \"is_auction\": false, \"buy_it_now\": true, \"free_returns\": true, \"item_location\": \"Located in United States\", \"shipping_cost\": 17, \"sponsored\": false, \"prices\": [{\"value\": 8.25, \"raw\": \"$8.25\"}], \"price\": {\"value\": 8.25, \"raw\": \"$8.25\"}}, {\"position\": 64, \"title\": \"32GB Sandisk SD Memory Cards for Digital Cameras/Trail Camera/Computers (2 Pack)\", \"epid\": \"325331557463\", \"link\": \"https://www.ebay.com/itm/325331557463\", \"image\": \"https://i.ebayimg.com/images/g/78AAAOSw5JZjEQjK/s-l140.jpg\", \"condition\": \"Brand New\", \"seller_info\": {\"name\": \"memorydiscounters\", \"review_count\": 74519, \"positive_feedback_percent\": 99.9}, \"is_auction\": false, \"buy_it_now\": true, \"free_returns\": true, \"item_location\": \"Located in United States\", \"rating\": 5, \"ratings_total\": 417, \"sponsored\": false, \"prices\": [{\"value\": 15.92, \"raw\": \"$15.92\"}], \"price\": {\"value\": 15.92, \"raw\": \"$15.92\"}}, {\"position\": 65, \"title\": \"LOT OF 2 - SanDisk Extreme 256GB microSDXC UHS-I Cards with SD Adapters\", \"epid\": \"226663153819\", \"link\": \"https://www.ebay.com/itm/226663153819\", \"image\": \"https://i.ebayimg.com/images/g/DCUAAOSwXd5n4aXL/s-l140.jpg\", \"condition\": \"Pre-Owned\", \"seller_info\": {\"name\": \"pgflower101\", \"review_count\": 3248, \"positive_feedback_percent\": 99}, \"is_auction\": false, \"buy_it_now\": true, \"free_returns\": true, \"item_location\": \"Located in United States\", \"rating\": 5, \"ratings_total\": 9, \"sponsored\": false, \"prices\": [{\"value\": 24.99, \"raw\": \"$24.99\"}], \"price\": {\"value\": 24.99, \"raw\": \"$24.99\"}}, {\"position\": 66, \"title\": \"SanDisk 256MB Secure Digital Memory Card - NEW in plastic case Free shipping\", \"epid\": \"205587243724\", \"link\": \"https://www.ebay.com/itm/205587243724\", \"image\": \"https://i.ebayimg.com/images/g/S3oAAeSwVWxoYC9F/s-l140.jpg\", \"condition\": \"Brand New\", \"seller_info\": {\"name\": \"espeeent\", \"review_count\": 15804, \"positive_feedback_percent\": 100}, \"is_auction\": false, \"buy_it_now\": false, \"free_returns\": false, \"item_location\": \"Located in United States\", \"rating\": 5, \"ratings_total\": 2, \"sponsored\": false, \"best_offer\": true, \"prices\": [{\"value\": 11.99, \"raw\": \"$11.99\"}], \"price\": {\"value\": 11.99, \"raw\": \"$11.99\"}}, {\"position\": 67, \"title\": \"SanDisk Ultra 256GB 512GB 1TB 2TB Micro SD MicroSDXC A1 UHS-I HD 4K Memory Card\", \"epid\": \"365689894463\", \"link\": \"https://www.ebay.com/itm/365689894463\", \"image\": \"https://i.ebayimg.com/images/g/yesAAOSwZOVoWfK6/s-l140.jpg\", \"condition\": \"Brand New\", \"seller_info\": {\"name\": \"sellularityco\", \"review_count\": 123, \"positive_feedback_percent\": 94.6}, \"is_auction\": false, \"buy_it_now\": true, \"free_returns\": true, \"item_location\": \"Located in United States\", \"sponsored\": false, \"prices\": [{\"value\": 17.99, \"raw\": \"$17.99\"}, {\"value\": 69.95, \"raw\": \"$69.95\"}], \"price\": {\"value\": 17.99, \"raw\": \"$17.99\"}}, {\"position\": 68, \"title\": \"SANDISK EXTREME Plus 1TB Micro SD MicroSDXC Class 10 V30 A2 UHS-I U3 Memory Card\", \"epid\": \"405696227782\", \"link\": \"https://www.ebay.com/itm/405696227782\", \"image\": \"https://i.ebayimg.com/images/g/FDkAAOSwcvZn49ne/s-l140.jpg\", \"condition\": \"Brand New\", \"seller_info\": {\"name\": \"zentreme\", \"review_count\": 115, \"positive_feedback_percent\": 89.5}, \"is_auction\": false, \"buy_it_now\": true, \"free_returns\": true, \"item_location\": \"Located in United States\", \"sponsored\": false, \"prices\": [{\"value\": 54.99, \"raw\": \"$54.99\"}], \"price\": {\"value\": 54.99, \"raw\": \"$54.99\"}}], \"search_information\": {\"original_search_term\": \"SanDisk memory cards\"}, \"facets\": [{\"display_name\": \"Storage Capacity\", \"values\": [{\"name\": \"32 GB\", \"param_value\": \"facets=Storage%2520Capacity=32+GB\", \"count\": 2324}, {\"name\": \"64 GB\", \"param_value\": \"facets=Storage%2520Capacity=64+GB\", \"count\": 1897}, {\"name\": \"128 GB\", \"param_value\": \"facets=Storage%2520Capacity=128+GB\", \"count\": 1367}, {\"name\": \"16 GB\", \"param_value\": \"facets=Storage%2520Capacity=16+GB\", \"count\": 1298}, {\"name\": \"256 GB\", \"param_value\": \"facets=Storage%2520Capacity=256+GB\", \"count\": 720}, {\"name\": \"2 GB\", \"param_value\": \"facets=Storage%2520Capacity=2+GB\", \"count\": 468}, {\"name\": \"8 GB\", \"param_value\": \"facets=Storage%2520Capacity=8+GB\", \"count\": 530}, {\"name\": \"4 GB\", \"param_value\": \"facets=Storage%2520Capacity=4+GB\", \"count\": 587}], \"name\": \"Storage%2520Capacity\"}, {\"display_name\": \"Format\", \"values\": [{\"name\": \"SD\", \"param_value\": \"facets=Format=SD\", \"count\": 2641}, {\"name\": \"SDHC\", \"param_value\": \"facets=Format=SDHC\", \"count\": 2223}, {\"name\": \"SDXC\", \"param_value\": \"facets=Format=SDXC\", \"count\": 1646}, {\"name\": \"CompactFlash\", \"param_value\": \"facets=Format=CompactFlash\", \"count\": 1244}, {\"name\": \"MicroSD\", \"param_value\": \"facets=Format=MicroSD\", \"count\": 1234}, {\"name\": \"SDXC UHS-I\", \"param_value\": \"facets=Format=SDXC+UHS-I\", \"count\": 904}, {\"name\": \"CompactFlash I\", \"param_value\": \"facets=Format=CompactFlash+I\", \"count\": 508}, {\"name\": \"microSDXC\", \"param_value\": \"facets=Format=microSDXC\", \"count\": 480}], \"name\": \"Format\"}, {\"display_name\": \"Speed Class\", \"values\": [{\"name\": \"Class 10\", \"param_value\": \"facets=Speed%2520Class=Class+10\", \"count\": 4821}, {\"name\": \"Class 4\", \"param_value\": \"facets=Speed%2520Class=Class+4\", \"count\": 864}, {\"name\": \"UHS Speed Class 3\", \"param_value\": \"facets=Speed%2520Class=UHS+Speed+Class+3\", \"count\": 366}, {\"name\": \"UHS Speed Class 1\", \"param_value\": \"facets=Speed%2520Class=UHS+Speed+Class+1\", \"count\": 232}, {\"name\": \"Class 6\", \"param_value\": \"facets=Speed%2520Class=Class+6\", \"count\": 41}, {\"name\": \"Class 2\", \"param_value\": \"facets=Speed%2520Class=Class+2\", \"count\": 221}, {\"name\": \"Class 3\", \"param_value\": \"facets=Speed%2520Class=Class+3\", \"count\": 111}, {\"name\": \"A1\", \"param_value\": \"facets=Speed%2520Class=A1\", \"count\": 84}], \"name\": \"Speed%2520Class\"}, {\"display_name\": \"Compatible Brand\", \"values\": [{\"name\": \"Universal\", \"param_value\": \"facets=Compatible%2520Brand=Universal\", \"count\": 4166}, {\"name\": \"For Nikon\", \"param_value\": \"facets=Compatible%2520Brand=For+Nikon\", \"count\": 1275}, {\"name\": \"For Canon\", \"param_value\": \"facets=Compatible%2520Brand=For+Canon\", \"count\": 1328}, {\"name\": \"For Sony\", \"param_value\": \"facets=Compatible%2520Brand=For+Sony\", \"count\": 1102}, {\"name\": \"For Panasonic\", \"param_value\": \"facets=Compatible%2520Brand=For+Panasonic\", \"count\": 399}, {\"name\": \"For Universal\", \"param_value\": \"facets=Compatible%2520Brand=For+Universal\", \"count\": 703}, {\"name\": \"For Kodak\", \"param_value\": \"facets=Compatible%2520Brand=For+Kodak\", \"count\": 464}, {\"name\": \"For GoPro\", \"param_value\": \"facets=Compatible%2520Brand=For+GoPro\", \"count\": 338}], \"name\": \"Compatible%2520Brand\"}, {\"display_name\": \"Features\", \"values\": [{\"name\": \"High Speed\", \"param_value\": \"facets=Features=High+Speed\", \"count\": 3920}, {\"name\": \"High Capacity\", \"param_value\": \"facets=Features=High+Capacity\", \"count\": 3730}, {\"name\": \"Waterproof\", \"param_value\": \"facets=Features=Waterproof\", \"count\": 3177}, {\"name\": \"Wi-Fi\", \"param_value\": \"facets=Features=Wi-Fi\", \"count\": 229}, {\"name\": \"Not Specified\", \"param_value\": \"facets=Features=Not+Specified\", \"count\": 5786}], \"name\": \"Features\"}, {\"display_name\": \"Compatible Model\", \"values\": [{\"name\": \"Universal\", \"param_value\": \"facets=Compatible%2520Model=Universal\", \"count\": 3441}, {\"name\": \"For Alcatel Fierce XL\", \"param_value\": \"facets=Compatible%2520Model=For+Alcatel+Fierce+XL\", \"count\": 19}, {\"name\": \"For Apple iPhone 6\", \"param_value\": \"facets=Compatible%2520Model=For+Apple+iPhone+6\", \"count\": 19}, {\"name\": \"For Apple iPhone X\", \"param_value\": \"facets=Compatible%2520Model=For+Apple+iPhone+X\", \"count\": 19}, {\"name\": \"For Samsung Galaxy S\", \"param_value\": \"facets=Compatible%2520Model=For+Samsung+Galaxy+S\", \"count\": 16}, {\"name\": \"For Alcatel 991\", \"param_value\": \"facets=Compatible%2520Model=For+Alcatel+991\", \"count\": 14}, {\"name\": \"For Alcatel A3\", \"param_value\": \"facets=Compatible%2520Model=For+Alcatel+A3\", \"count\": 14}, {\"name\": \"For Alcatel A5 LED\", \"param_value\": \"facets=Compatible%2520Model=For+Alcatel+A5+LED\", \"count\": 14}], \"name\": \"Compatible%2520Model\"}, {\"display_name\": \"Country/Region of Manufacture\", \"values\": [{\"name\": \"China\", \"param_value\": \"facets=Country%252FRegion%2520of%2520Manufacture=China\", \"count\": 1020}, {\"name\": \"Malaysia\", \"param_value\": \"facets=Country%252FRegion%2520of%2520Manufacture=Malaysia\", \"count\": 263}, {\"name\": \"Unknown\", \"param_value\": \"facets=Country%252FRegion%2520of%2520Manufacture=Unknown\", \"count\": 120}, {\"name\": \"Japan\", \"param_value\": \"facets=Country%252FRegion%2520of%2520Manufacture=Japan\", \"count\": 106}, {\"name\": \"Taiwan\", \"param_value\": \"facets=Country%252FRegion%2520of%2520Manufacture=Taiwan\", \"count\": 89}, {\"name\": \"United States\", \"param_value\": \"facets=Country%252FRegion%2520of%2520Manufacture=United+States\", \"count\": 35}, {\"name\": \"Korea, Republic of\", \"param_value\": \"facets=Country%252FRegion%2520of%2520Manufacture=Korea,+Republic+of\", \"count\": 12}, {\"name\": \"Thailand\", \"param_value\": \"facets=Country%252FRegion%2520of%2520Manufacture=Thailand\", \"count\": 10}], \"name\": \"Country%252FRegion%2520of%2520Manufacture\"}, {\"display_name\": \"Series\", \"values\": [{\"name\": \"Samsung PRO\", \"param_value\": \"facets=Series=Samsung+PRO\", \"count\": 117}, {\"name\": \"Samsung EVO\", \"param_value\": \"facets=Series=Samsung+EVO\", \"count\": 62}, {\"name\": \"Not Specified\", \"param_value\": \"facets=Series=Not+Specified\", \"count\": 8972}], \"name\": \"Series\"}, {\"display_name\": \"Brand\", \"values\": [{\"name\": \"SanDisk\", \"param_value\": \"facets=Brand=SanDisk\", \"count\": 9762}, {\"name\": \"Sony\", \"param_value\": \"facets=Brand=Sony\", \"count\": 34}, {\"name\": \"Lexar\", \"param_value\": \"facets=Brand=Lexar\", \"count\": 31}, {\"name\": \"Kingston\", \"param_value\": \"facets=Brand=Kingston\", \"count\": 9}, {\"name\": \"Olympus\", \"param_value\": \"facets=Brand=Olympus\", \"count\": 9}, {\"name\": \"Transcend\", \"param_value\": \"facets=Brand=Transcend\", \"count\": 33}, {\"name\": \"Unbranded\", \"param_value\": \"facets=Brand=Unbranded\", \"count\": 145}, {\"name\": \"PNY\", \"param_value\": \"facets=Brand=PNY\", \"count\": 15}], \"name\": \"Brand\"}, {\"display_name\": \"Show only\", \"values\": [{\"name\": \"Free Returns\", \"param_value\": \"facets=LH_FR=Free+Returns\"}, {\"name\": \"Returns Accepted\", \"param_value\": \"facets=LH_FR=Returns+Accepted\"}, {\"name\": \"Authorized Seller\", \"param_value\": \"facets=LH_FR=Authorized+Seller\"}, {\"name\": \"Completed Items\", \"param_value\": \"facets=LH_FR=Completed+Items\"}, {\"name\": \"Sold Items\", \"param_value\": \"facets=LH_FR=Sold+Items\"}, {\"name\": \"Deals & Savings\", \"param_value\": \"facets=LH_FR=Deals+&+Savings\"}], \"name\": \"LH_FR\"}], \"pagination\": {\"has_next_page\": true, \"next_page\": 2, \"current_page\": 1, \"total_results\": 12000}}\n",
      "==================================\u001b[1m Ai Message \u001b[0m==================================\n",
      "\n",
      "Here are some current prices and direct links for SanDisk memory cards from eBay:\n",
      "\n",
      "1. **SanDisk Micro SD Extreme Pro 128GB Class 10 MicroSDXC A2 Memory Card W/ Adapter**  \n",
      "   - Price: $6.99  \n",
      "   - [View on eBay](https://www.ebay.com/itm/336005714456)\n",
      "\n",
      "2. **SanDisk Ultra Class10 UHS-I SD 32GB 120MB/s SDHC SDXC Memory Card (Pack of 10)**  \n",
      "   - Price: $56.80  \n",
      "   - [View on eBay](https://www.ebay.com/itm/195480013345)\n",
      "\n",
      "3. **Sandisk SD Cards 16GB 32GB 64GB 128GB 256GB Extreme Pro Ultra Memory Cards lot**  \n",
      "   - Price: $7.98 (starting)  \n",
      "   - [View on eBay](https://www.ebay.com/itm/324078167020)\n",
      "\n",
      "4. **SanDisk Micro SD Memory Card 32GB 64GB 128GB 256GB 512GB 1TB - Ultra Extreme Lot**  \n",
      "   - Price: $9.95 (starting)  \n",
      "   - [View on eBay](https://www.ebay.com/itm/203914554350)\n",
      "\n",
      "5. **SanDisk 128GB micro SD SDXC Card 100MB/s Ultra 128G Class 10 UHS-1 A1**  \n",
      "   - Price: $13.50  \n",
      "   - [View on eBay](https://www.ebay.com/itm/253152315853)\n",
      "\n",
      "6. **SanDisk Ultra 64GB 80MB/s SDXC SDHC Class 10 533x SD Camera Flash Memory Card**  \n",
      "   - Price: $10.99  \n",
      "   - [View on eBay](https://www.ebay.com/itm/332426273325)\n",
      "\n",
      "7. **SanDisk ExtremePro 64GB CF memory card SDCFXPS-064G G Extreme Pro 64 GB 160MB/s**  \n",
      "   - Price: $34.99  \n",
      "   - [View on eBay](https://www.ebay.com/itm/404856030762)\n",
      "\n",
      "For more options and details, you can browse the full list here:  \n",
      "👉 [SanDisk memory cards on eBay](https://www.ebay.com/sch/i.html?_nkw=SanDisk+memory+cards&_sacat=0&_dmd=1&_fcid=1)\n",
      "\n",
      "If you need cards of a specific size or type, let me know!\n"
     ]
    }
   ],
   "source": [
    "inputs = {\"messages\": [(\"user\", QUESTION)]}\n",
    "\n",
    "print_stream(graph.stream(inputs, stream_mode=\"values\"))"
   ]
  },
  {
   "cell_type": "markdown",
   "id": "56cbc405-26e2-471e-9626-2a0df07f5ddc",
   "metadata": {},
   "source": [
    "# Summary"
   ]
  },
  {
   "cell_type": "markdown",
   "id": "7381ea5f-7269-4e1f-8b0c-1e2c04bd84c0",
   "metadata": {},
   "source": [
    "In this notebook, we learned about how to create very smart API agents for simple or complex APIs that use Swagger or OpenAPI specifications.\n",
    "We see, again, that the key to success is to use: Agents with Expert tools + GPT-4 + good prompts.\n",
    "\n",
    "As homework, try to create a shopping assistant for Etsy e-commerce site using the following API spec: (you will need to register for free and create an API-Key)\n",
    "\n",
    "- https://developers.etsy.com/documentation/\n",
    "- https://www.etsy.com/openapi/generated/oas/3.0.0.json"
   ]
  },
  {
   "cell_type": "markdown",
   "id": "02073623-91b4-40d6-8eaf-cb6d9c6a7a9a",
   "metadata": {},
   "source": [
    "# NEXT\n",
    "\n",
    "The Next Notebook will guide you on how to add vision and audio to our engine."
   ]
  },
  {
   "cell_type": "code",
   "execution_count": null,
   "id": "32a33c2f-9487-4996-9da8-f57f0f1f314c",
   "metadata": {},
   "outputs": [],
   "source": []
  }
 ],
 "metadata": {
  "kernelspec": {
   "display_name": "RAGAgents (Python 3.12)",
   "language": "python",
   "name": "ragagents"
  },
  "language_info": {
   "codemirror_mode": {
    "name": "ipython",
    "version": 3
   },
   "file_extension": ".py",
   "mimetype": "text/x-python",
   "name": "python",
   "nbconvert_exporter": "python",
   "pygments_lexer": "ipython3",
   "version": "3.12.11"
  }
 },
 "nbformat": 4,
 "nbformat_minor": 5
}
