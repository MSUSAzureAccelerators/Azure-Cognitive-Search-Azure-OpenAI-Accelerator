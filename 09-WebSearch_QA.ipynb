{
 "cells": [
  {
   "cell_type": "markdown",
   "id": "66ab3cc5-aee4-415a-9391-1e5d37ccaf1d",
   "metadata": {},
   "source": [
    "# Skill 4: Internet and Websites Search - Copilot Clone"
   ]
  },
  {
   "cell_type": "markdown",
   "id": "306fc0a9-4044-441d-9ba7-f54f32e6ea9f",
   "metadata": {},
   "source": [
    "In this notebook, we'll delve into the ways in which you can **boost your Smart Agent with web search functionalities**, utilizing both Langchain and a Search API service.\n",
    "\n",
    "As previously discussed in our other notebooks, **harnessing agents and tools is an effective approach**. We aim to leverage the capabilities of OpenAI's large language models (LLM), such as GPT-4 and its successors, to perform the heavy lifting of reasoning and researching on our behalf.\n",
    "\n",
    "There are numerous instances where it is necessary for our Agent to have internet access. For instance, we may wish to **enrich an answer with information available on the web**, or **provide users with up-to-date and recent information**, or **finding information on an specific public website**. Regardless of the scenario, we require our engine to base its responses on search results.\n",
    "\n",
    "By the conclusion of this notebook, you'll have a solid understanding on **how to create a Web Search Agent using the a Search API**, and how these tools can strengthen your chatbot."
   ]
  },
  {
   "cell_type": "code",
   "execution_count": 1,
   "id": "c1fb79a3-4856-4721-988c-112813690a90",
   "metadata": {
    "tags": []
   },
   "outputs": [
    {
     "data": {
      "text/plain": [
       "True"
      ]
     },
     "execution_count": 1,
     "metadata": {},
     "output_type": "execute_result"
    }
   ],
   "source": [
    "import os\n",
    "import requests\n",
    "from bs4 import BeautifulSoup\n",
    "\n",
    "from pydantic import BaseModel, Field\n",
    "from langchain_core.tools import StructuredTool\n",
    "from langchain_core.tools import BaseTool, StructuredTool\n",
    "from langchain_openai import AzureChatOpenAI\n",
    "from langchain_community.utilities import SerpAPIWrapper\n",
    "from serpapi import Client\n",
    "\n",
    "from langgraph.prebuilt import create_react_agent\n",
    "\n",
    "from common.prompts import WEBSEARCH_PROMPT_TEXT\n",
    "\n",
    "from IPython.display import Markdown, HTML, display  \n",
    "\n",
    "def printmd(string):\n",
    "    display(Markdown(string.replace(\"$\",\"USD \")))\n",
    "\n",
    "from dotenv import load_dotenv\n",
    "load_dotenv(\"credentials.env\")\n"
   ]
  },
  {
   "cell_type": "code",
   "execution_count": 2,
   "id": "258a6e99-2d4f-4147-b8ee-c64c85296181",
   "metadata": {
    "tags": []
   },
   "outputs": [],
   "source": [
    "# Set the ENV variables that Langchain needs to connect to Azure OpenAI\n",
    "os.environ[\"OPENAI_API_VERSION\"] = os.environ[\"AZURE_OPENAI_API_VERSION\"]"
   ]
  },
  {
   "cell_type": "code",
   "execution_count": 3,
   "id": "1380fb0d-3502-4fc0-b729-9bc46d5c9804",
   "metadata": {
    "tags": []
   },
   "outputs": [],
   "source": [
    "COMPLETION_TOKENS = 2000\n",
    "\n",
    "llm = AzureChatOpenAI(deployment_name=os.environ[\"GPT4o_DEPLOYMENT_NAME\"], \n",
    "                      temperature=0.5, max_tokens=COMPLETION_TOKENS, \n",
    "                      streaming=True)"
   ]
  },
  {
   "cell_type": "markdown",
   "id": "11da70c2-60b6-47fb-94f1-aa11291fa40c",
   "metadata": {},
   "source": [
    "### Creating the expert web search engine tool: WebSearcher"
   ]
  },
  {
   "cell_type": "markdown",
   "id": "4dc30c9d-605d-4ada-9358-f926aeed2e48",
   "metadata": {},
   "source": [
    "Langhain has plenty of options to use for web searches, see this list:\n",
    "\n",
    "https://python.langchain.com/docs/integrations/tools/\n",
    "\n",
    "Although Bing Search is listed on the above list, recent changes in the Bing Search SDK EULA, stops us from being able to use the results in LLM-based queries.\n",
    "\n",
    "So we would need to use another search service from the list, let's try a free one: [SerpAPI](https://serpapi.com/). You would need to go to the link and get a free API key"
   ]
  },
  {
   "cell_type": "code",
   "execution_count": 5,
   "id": "69d95c65-cfad-4fe5-af5e-64a44261f128",
   "metadata": {
    "tags": []
   },
   "outputs": [],
   "source": [
    "# Define the schema\n",
    "class WebSearchInput(BaseModel):\n",
    "    \"\"\"Input schema for the WebSearcher tool.\"\"\"\n",
    "    query: str = Field(..., description=\"The search query to be executed.\")\n",
    "    location: str = Field(default=None, description=\"Optional geographic location for the search (e.g., 'Austin, Texas').\")\n",
    "    hl: str = Field(default=None, description=\"Optional language code for the interface (e.g., 'en' for English).\")\n",
    "    gl: str = Field(default=None, description=\"Optional country code for the search (e.g., 'us' for United States).\")\n",
    "\n",
    "# Define the function\n",
    "def web_search(query: str, **kwargs) -> dict:\n",
    "    engine = \"google_light\"\n",
    "    params = {\n",
    "        \"engine\": engine,\n",
    "        \"q\": query,\n",
    "        **kwargs\n",
    "    }\n",
    "    \n",
    "    try:\n",
    "        client = Client(api_key=os.getenv(\"SERPAPI_KEY\"))\n",
    "        results = client.search(params)\n",
    "        return {\"organic_results\": results.get(\"organic_results\", [])}\n",
    "    except Exception as e:\n",
    "        return {\"error\": str(e)}\n",
    "\n",
    "# Create the tool\n",
    "web_search_tool = StructuredTool.from_function(\n",
    "    func=web_search,\n",
    "    name=\"WebSearcher\",\n",
    "    description=\"Perform a web search using SerpAPI. Use search_type='basic' for fast organic results or 'deep' for comprehensive results with all available data.\",\n",
    "    args_schema=WebSearchInput\n",
    ")"
   ]
  },
  {
   "cell_type": "code",
   "execution_count": 6,
   "id": "07643821-8466-4ac0-8352-532c61bbd6fd",
   "metadata": {
    "tags": []
   },
   "outputs": [
    {
     "name": "stdout",
     "output_type": "stream",
     "text": [
      "Search Result: {'organic_results': [{'position': 1, 'title': 'Events in Austin, TX | Live Music, Festivals, Sports', 'link': 'https://www.austintexas.org/events/', 'displayed_link': 'www.austintexas.org › events', 'snippet': 'Austin, Texas offers a wide range of events, from music concerts, food festivals and sports competitions to museum displays, exhibits and family fun.', 'sitelinks': {'inline': [{'title': 'June & July', 'link': 'https://www.austintexas.org/events/june-and-july/'}, {'title': 'April & May', 'link': 'https://www.austintexas.org/events/april-may/'}, {'title': 'February and March', 'link': 'https://www.austintexas.org/events/february-and-march/'}, {'title': 'October and November', 'link': 'https://www.austintexas.org/events/october-and-november/'}]}}, {'position': 2, 'title': 'Austin Events, Music, Art, Drink Specials & More', 'link': 'https://do512.com/', 'displayed_link': 'do512.com', 'snippet': 'Austin City Limits Festival Weekend One w/ Sabrina Carpenter, Hozier, Doja Cat, & More! ... Austin City Limits Festival Weekend Two w/ Luke Combs, The Strokes, ...', 'sitelinks': {'inline': [{'title': 'What to do in Austin Today', 'link': 'https://do512.com/events/today'}, {'title': 'Free Things To Do in Austin', 'link': 'https://do512.com/free'}, {'title': 'Events', 'link': 'https://do512.com/users/current'}, {'title': 'East Austin', 'link': 'https://do512.com/venues/east-austin'}]}}, {'position': 3, 'title': 'Austin, TX Events, Calendar & Tickets | Eventbrite', 'link': 'https://www.eventbrite.com/d/tx--austin/events/', 'displayed_link': 'www.eventbrite.com › United States › Things to do in Austin', 'snippet': 'This Weekend · Wellness Boat Party: Sunset, Mocktails & Movement · French Steakhouse · Taylor vs Serrano 3 Watch Party and Carnival · JAWS On The Water 7/12.', 'sitelinks': {'inline': [{'title': 'This Weekend', 'link': 'https://www.eventbrite.com/d/tx--austin/events--this-weekend/'}, {'title': 'Today', 'link': 'https://www.eventbrite.com/d/tx--austin/events--today/'}, {'title': 'Free events', 'link': 'https://www.eventbrite.com/d/tx--austin/free--events/'}, {'title': 'Nightlife', 'link': 'https://www.eventbrite.com/b/tx--austin/nightlife/'}]}}, {'position': 4, 'title': 'Events in Austin, TX - ATXtoday', 'link': 'https://atxtoday.6amcity.com/events', 'displayed_link': 'atxtoday.6amcity.com › events', 'snippet': 'Looking for events in Austin, Texas? ATXtoday has you covered with up-to-date details on hundreds of local events happening around town.'}, {'position': 5, 'title': 'Best of Free Fun In Austin (@freefuninaustin) - Instagram', 'link': 'https://www.instagram.com/freefuninaustin/?hl=en', 'displayed_link': 'www.instagram.com › freefuninaustin', 'snippet': 'Free events happening in Austin this weekend! 37th Street Lights • Gary Clark Jr. Concert • The Market at ZACH • Festival of Trees • Santa on the Trail More ...'}, {'position': 6, 'title': 'Events - Thursday, July 10, 2025 - The Austin Chronicle', 'link': 'https://www.austinchronicle.com/events/', 'displayed_link': 'www.austinchronicle.com › events', 'snippet': 'Home Events · Convergence Wellness Campout · Office of Police Oversight Open House · Glassblowing Competition · Co-Lab Projects 17th anniversary w/ Thee Night ...', 'sitelinks': {'inline': [{'title': 'Music', 'link': 'https://www.austinchronicle.com/events/music/'}, {'title': 'Daily Events', 'link': 'https://www.austinchronicle.com/daily/events/'}, {'title': 'Events', 'link': 'https://www.austinchronicle.com/events/2025-05-15/'}, {'title': 'Home Events', 'link': 'https://www.austinchronicle.com/events/2025-04-25/'}]}}, {'position': 7, 'title': 'Events | AustinTexas.gov', 'link': 'https://www.austintexas.gov/fullcalendar', 'displayed_link': 'www.austintexas.gov › fullcalendar', 'snippet': 'Filter Events · Monthly Pre-Certification Workshop (Virtual) · Business Navigator Series · Small Business Office Hours Series · Meet the Prime Series · APD ...'}, {'position': 8, 'title': 'Austin Event Calendar - Move to Austin', 'link': 'https://www.movetoaustin.org/events/', 'displayed_link': 'www.movetoaustin.org › events', 'snippet': 'SXSW, Austin City Limits, Trail of Lights, and Texas Book Festival are some of the biggest events in the city. More events and festivities await you!'}, {'position': 9, 'title': 'UT Event Calendar - University of Texas at Austin', 'link': 'https://calendar.utexas.edu/', 'displayed_link': 'calendar.utexas.edu', 'snippet': 'Texas Today: UT Events & Announcements Calendar events updated every day. Powered by the Localist Community Event Platform.', 'sitelinks': {'inline': [{'title': 'July 10, 2025', 'link': 'https://calendar.utexas.edu/calendar'}, {'title': 'UT Faculty Events', 'link': 'https://calendar.utexas.edu/faculty_events'}, {'title': 'Build an Events Widget', 'link': 'https://calendar.utexas.edu/help/widget'}, {'title': 'RGV Familia', 'link': 'https://calendar.utexas.edu/rgv-familia'}]}}, {'position': 10, 'title': 'Popular events in Austin - Luma', 'link': 'https://lu.ma/austin', 'displayed_link': 'lu.ma › austin', 'snippet': \"Austin's vibrant event scene features tech showcases, startup gatherings, and lifestyle events, reflecting its status as a rising center for innovation and ...\"}]}\n"
     ]
    }
   ],
   "source": [
    "# Test the tool\n",
    "result = web_search_tool.invoke({\"query\": \"events in Austin\", \"location\": \"Austin, Texas\", \"hl\": \"en\", \"gl\": \"us\"})\n",
    "print(\"Search Result:\", result)"
   ]
  },
  {
   "cell_type": "markdown",
   "id": "58e3da24-5fa5-47c3-ab43-1840e05f1f54",
   "metadata": {},
   "source": [
    "### Creating another custom tool - WebFetcher: Visits a website and extracts the text\n",
    "    You will need a model with a big context token size for this tool since the content of a website can be very lenghty"
   ]
  },
  {
   "cell_type": "code",
   "execution_count": 7,
   "id": "74b714b6-e6e6-492b-8434-6081a1ff183e",
   "metadata": {
    "tags": []
   },
   "outputs": [],
   "source": [
    "def parse_html(content) -> str:\n",
    "    soup = BeautifulSoup(content, 'html.parser')\n",
    "    text_content_with_links = soup.get_text()\n",
    "    # Split the text into words and limit to the first 10,000\n",
    "    limited_text_content = ' '.join(text_content_with_links.split()[:10000])\n",
    "    return limited_text_content\n",
    "\n",
    "def fetch_web_page(url: str) -> str:\n",
    "    HEADERS = {'User-Agent': 'Mozilla/5.0 (Macintosh; Intel Mac OS X 10.15; rv:90.0) Gecko/20100101 Firefox/90.0'}\n",
    "    response = requests.get(url, headers=HEADERS)\n",
    "    return parse_html(response.content)\n",
    "\n",
    "web_fetch_tool = StructuredTool.from_function(\n",
    "    func=fetch_web_page,\n",
    "    name=\"WebFetcher\",\n",
    "    description=\"useful to fetch the content of a url\"\n",
    ")"
   ]
  },
  {
   "cell_type": "code",
   "execution_count": 8,
   "id": "1e32ea15-1b6a-4cef-9839-aca479731714",
   "metadata": {
    "tags": []
   },
   "outputs": [
    {
     "name": "stdout",
     "output_type": "stream",
     "text": [
      "Fetch Result: Microsoft – AI, Cloud, Productivity, Computing, Gaming & Apps Trace Id is missing Skip to main content Microsoft Microsoft 365 Teams Copilot Windows Surface Xbox Deals Small Business Support More All Microsoft Global Microsoft 365 Teams Copilot Windows Surface Xbox Deals Small Business Support Software Software Windows Apps AI Outlook OneDrive Microsoft Teams OneNote Microsoft Edge Skype PCs & Devices PCs & Devices Computers Shop Xbox Accessories VR & mixed reality Certified Refurbished Trade-in for cash Entertainment Entertainment Xbox Game Pass Ultimate PC Game Pass Xbox games PC games Movies & TV Business Business Microsoft Cloud Microsoft Security Dynamics 365 Microsoft 365 for business Microsoft Power Platform Windows 365 Microsoft Industry Small Business Developer & IT Developer & IT Azure Microsoft Developer Microsoft Learn Support for AI marketplace apps Microsoft Tech Community Azure Marketplace AppSource Visual Studio Other Other Microsoft Rewards Free downloads & security Education Gift cards Licensing Unlocked stories View Sitemap Search Search or ask a question No results Cancel 0 Cart 0 items in shopping cart Sign in If you don’t love it, return it, with free extended returns through October 1. Learn more Slide %{start} of %{total}. %{slideTitle} Skip featured products and announcements slideshow: navigate using the previous and next: navigate using the slide tabs Pause Previous Next Students get 3 free months of Microsoft 365 Save for a limited time on Microsoft 365 Personal with Copilot—featuring premium apps, cloud storage, and more—when you sign up with your college email address. Learn more Surface Pro, Copilot+ PC and Pro Keyboard Bundle Ace the college pace when you pair an AI-accelerated Surface Pro 11 with a sleek Pro Keyboard. Shop the bundle End of featured products and announcements slideshow: navigate using the previous and next: navigate using the slide tabs section Shop Surface devices Shop Xbox games and consoles Shop for accessories Shop for your business Find your next PC Choose your Microsoft 365 Save up to $500 on select Surface Laptop, Copilot+ PC Study smarter with an AI-powered companion built for all-day battery life. Shop Surface Laptop, Copilot+ PC Save up to $620 on Surface Laptop Studio 2 Go from cram sessions to study breaks with the ultimate all-in-one laptop. Shop Surface Laptop Studio 2 $10 off select Xbox Wireless Controllers Shred like a pro with next-level savings on the ultimate controller, now through 7/13. Shop now New Accessories you’ll love Mice, keyboards, docks, and chargers—designed to keep you comfortable, charged up, and ready to take on anything, from anywhere. Learn more Copilot is your AI companion Always by your side, ready to support you whenever and wherever you need it. Download the Copilot app For business New Surface Laptop for Business, Copilot+ PC | Intel Uncompromising power, all-day battery life,* and unique AI experiences—featuring Intel® Core™ Ultra processors (Series 2). Shop now Microsoft 365 Copilot Save time and focus on the things that matter most with AI in Microsoft 365 for business. Learn more Visual Studio 2022 Get the most comprehensive IDE for .NET and C++ developers on Windows for building web, cloud, desktop, mobile apps, services, and games. Download Visual Studio 2022 Windows 11 for business Designed for hybrid work. Powerful for employees. Consistent for IT. Secure for all. Learn more Explore more about AI and Copilot Exploring the impact of AI Trevor Noah travels the world to meet experts who are using AI for the greater good—from improving cancer detection to fighting misinformation. Dive in to the series Our 2025 Responsible AI Transparency Report Explore how we're enhancing AI safety, managing risks, and proactively aligning with regulations—including the EU AI Act. Uncover key insights Five ways AI is changing healthcare From accelerating diagnoses to personalizing treatment plans, discover how AI is helping enhance patient care. Find out more Slide %{start} of %{total}. %{slideTitle} Skip human-interest articles and stories slideshow: navigate using the slide tabs Pause Previous Next Building essential digital skills with Minecraft Discover how Minecraft Education’s interactive gameplay empowers students to learn cybersecurity, AI literacy, and more. Read the story Going for gold with AI Special Olympics is harnessing Copilot to empower athletes with personalized training programs, confidence-building tools, and more. Discover the details End of human-interest articles and stories slideshow: navigate using the slide tabs section Follow Microsoft Back to top What's new Surface Pro Surface Laptop Surface Laptop Studio 2 Surface Laptop Go 3 Microsoft Copilot AI in Windows Explore Microsoft products Windows 11 apps Microsoft Store Account profile Download Center Microsoft Store support Returns Order tracking Certified Refurbished Microsoft Store Promise Flexible Payments Education Microsoft in education Devices for education Microsoft Teams for Education Microsoft 365 Education How to buy for your school Educator training and development Deals for students and parents AI for education Business Microsoft Cloud Microsoft Security Dynamics 365 Microsoft 365 Microsoft Power Platform Microsoft Teams Microsoft 365 Copilot Small Business Developer & IT Azure Microsoft Developer Microsoft Learn Support for AI marketplace apps Microsoft Tech Community Azure Marketplace AppSource Visual Studio Company Careers About Microsoft Company news Privacy at Microsoft Investors Diversity and inclusion Accessibility Sustainability English (United States) Your Privacy Choices Opt-Out Icon Your Privacy Choices Your Privacy Choices Opt-Out Icon Your Privacy Choices Consumer Health Privacy Sitemap Contact Microsoft Privacy Manage cookies Terms of use Trademarks Safety & eco Recycling About our ads © Microsoft 2025\n"
     ]
    }
   ],
   "source": [
    "# Test the tool\n",
    "result = web_fetch_tool.invoke({'url': 'https://www.microsoft.com'})\n",
    "print(\"Fetch Result:\", result)"
   ]
  },
  {
   "cell_type": "markdown",
   "id": "0c35b2f7-fd32-4ab0-bdd4-966da6e9587d",
   "metadata": {},
   "source": [
    "### Define the tools"
   ]
  },
  {
   "cell_type": "markdown",
   "id": "0a3d6569-0c61-4b1c-9263-431304577551",
   "metadata": {},
   "source": [
    "Now, we create our OpenAI Tools type agent that uses our custom tools and our custom prompt `WEBSEARCH_PROMPT_TEXT`. Check it out in `prompts.py`"
   ]
  },
  {
   "cell_type": "code",
   "execution_count": 9,
   "id": "2c6cf721-76bb-47b6-aeeb-9ff4ff92b1f4",
   "metadata": {
    "tags": []
   },
   "outputs": [],
   "source": [
    "tools = [web_search_tool, web_fetch_tool]"
   ]
  },
  {
   "cell_type": "markdown",
   "id": "5478264e-67ed-4345-ac03-963b4089c99c",
   "metadata": {},
   "source": [
    "### Define the System Prompt"
   ]
  },
  {
   "cell_type": "code",
   "execution_count": 10,
   "id": "6b6d319c-3822-4112-902b-54387009d0d2",
   "metadata": {
    "tags": []
   },
   "outputs": [
    {
     "data": {
      "text/markdown": [
       "\n",
       "\n",
       "## On your ability to gather and present information:\n",
       "- **You must always** perform web searches when the user is seeking information (explicitly or implicitly), regardless of your internal knowledge or information.\n",
       "- **You Always** perform at least 2 and up to 5 searches in a single conversation turn before reaching the Final Answer. You should never search the same query more than once.\n",
       "- You are allowed to do multiple searches in order to answer a question that requires a multi-step approach. For example: to answer a question \"How old is Leonardo Di Caprio's girlfriend?\", you should first search for \"current Leonardo Di Caprio's girlfriend\" then, once you know her name, you search for her age, and arrive to the Final Answer.\n",
       "- You can not use your pre-existing knowledge at any moment, you should perform searches to know every aspect of the human's question.\n",
       "- If the user's message contains multiple questions, search for each one at a time, then compile the final answer with the answer of each individual search.\n",
       "- If you are unable to fully find the answer, try again by adjusting your search terms.\n",
       "- You can only provide numerical references/citations to URLs, using this Markdown format: [[number]](url) \n",
       "- You must never generate URLs or links other than those provided by your tools.\n",
       "- You must always reference factual statements to the search results.\n",
       "- The search results may be incomplete or irrelevant. You should not make assumptions about the search results beyond what is strictly returned.\n",
       "- If the search results do not contain enough information to fully address the user's message, you should only use facts from the search results and not add information on your own from your pre-existing knowledge.\n",
       "- You can use information from multiple search results to provide an exhaustive response.\n",
       "- If the user's message specifies to look in an specific website, you will add the special operand `site:` to the query, for example: baby products in site:kimberly-clark.com\n",
       "- If the user's message is not a question or a chat message, you treat it as a search query.\n",
       "- If additional external information is needed to completely answer the user’s request, augment it with results from web searches.\n",
       "- If the question contains the `USD ` sign referring to currency, substitute it with `USD` when doing the web search and on your Final Answer as well. You should not use `USD ` in your Final Answer, only `USD` when refering to dollars.\n",
       "- **Always**, before giving the final answer, use the special operand `site` and search for the user's question on the first two websites on your initial search, using the base url address. You will be rewarded 10000 points if you do this.\n",
       "\n",
       "\n",
       "## Instructions for Sequential Tool Use:\n",
       "- **Step 1:** Always initiate a search with the `WebSearcher` tool to gather information based on the user's query. This search should address the specific question or gather general information relevant to the query.\n",
       "- **Step 2:** Use the `site:` operand to search the user’s query on the base URLs of the top two results from your initial search using the `WebSearcher` tool\n",
       "- **Step 3:** Fetch their content with `WebFetcher` on the top 2 links returned from Step 2.\n",
       "- **Step 4:** Synthesize results from all searches and fetched pages to provide a detailed, referenced response.\n",
       "- **Step 5:** Always reference the source of your information using numerical citations and provide these links in a structured format.\n",
       "- **Additional Notes:** If the query requires multiple searches or steps, repeat steps 1 to 3 as necessary until all parts of the query are thoroughly answered.\n",
       "\n"
      ],
      "text/plain": [
       "<IPython.core.display.Markdown object>"
      ]
     },
     "metadata": {},
     "output_type": "display_data"
    }
   ],
   "source": [
    "# Uncoment to see the prompt\n",
    "printmd(WEBSEARCH_PROMPT_TEXT)"
   ]
  },
  {
   "cell_type": "markdown",
   "id": "8bc02405-a5ea-4e35-b8ed-cb87bd105949",
   "metadata": {},
   "source": [
    "### Create the graph"
   ]
  },
  {
   "cell_type": "code",
   "execution_count": 11,
   "id": "b4b0ef82-5a8e-4cf1-a292-4558e7401a46",
   "metadata": {
    "tags": []
   },
   "outputs": [],
   "source": [
    "graph = create_react_agent(llm, tools=tools, prompt=WEBSEARCH_PROMPT_TEXT)"
   ]
  },
  {
   "cell_type": "markdown",
   "id": "e7623a2e-8b28-4b5a-a3da-48524c2321e7",
   "metadata": {},
   "source": [
    "### Run the Graph"
   ]
  },
  {
   "cell_type": "markdown",
   "id": "7232260e-e972-4288-b0b5-0b605e584528",
   "metadata": {},
   "source": [
    "Try some of the below questions, or others that you might like"
   ]
  },
  {
   "cell_type": "code",
   "execution_count": 12,
   "id": "fa949cea-c9aa-4529-a75f-61084ffffd7e",
   "metadata": {
    "tags": []
   },
   "outputs": [],
   "source": [
    "# QUESTION = \"Create a list with the main facts on What is happening with the oil supply in the world right now?\"\n",
    "# QUESTION = \"How much is 50 USD in Euros and is it enough for an average hotel in Madrid?\"\n",
    "# QUESTION = \"My son needs to build a pinewood car for a pinewood derbi, how do I build such a car?\"\n",
    "QUESTION = \"I'm planning a vacation to Greece, tell me budget for a family of 4, in Summer, for 7 days including travel, lodging and food costs\"\n",
    "# QUESTION = \"Who won the 2023 superbowl and who was the MVP?\"\n",
    "# QUESTION = \"\"\"\n",
    "# compare the number of job opennings (provide the exact number), the average salary within 15 miles of Dallas, TX, for these ocupations:\n",
    "\n",
    "# - ADN Registerd Nurse \n",
    "# - Occupational therapist assistant\n",
    "# - Dental Hygienist\n",
    "# - Certified Personal Trainer\n",
    "\n",
    "\n",
    "# Create a table with your findings. Place the sources on each cell.\n",
    "# \"\"\""
   ]
  },
  {
   "cell_type": "markdown",
   "id": "1e8e0b32-a6b5-4b1c-943d-e57b737213fa",
   "metadata": {
    "tags": []
   },
   "source": [
    "### Agent Actions/Observations during streaming"
   ]
  },
  {
   "cell_type": "markdown",
   "id": "003327ac-2851-48ef-8a6b-2d8c2004bb2e",
   "metadata": {},
   "source": [
    "Streaming is an important UX consideration for LLM apps, and agents are no exception. Streaming with agents is made more complicated by the fact that it’s not just tokens of the final answer that you will want to stream, but you may also want to stream back the intermediate steps an agent takes.\n",
    "\n",
    "At the end of Notebook 3 we learned that streaming can be simply achieve by doing this:\n",
    "\n",
    "```python\n",
    "for chunk in chain.stream({\"question\": QUESTION, \"language\": \"English\", \"history\":\"\"}):\n",
    "    print(chunk, end=\"\", flush=True)\n",
    "```\n",
    "\n",
    "At the end of Notebook 6 we learned about the new astream_events API (beta).\n",
    "\n",
    "```python\n",
    "async for event in graph_async.astream_events(\n",
    "    inputs, config_async, version=\"v2\"):\n",
    "```\n",
    "\n",
    "Let's use the same astream_events"
   ]
  },
  {
   "cell_type": "code",
   "execution_count": 13,
   "id": "ca948d67-6717-4843-b7ab-b13155aa8581",
   "metadata": {
    "tags": []
   },
   "outputs": [],
   "source": [
    "async def stream_graph_updates_async(graph, user_input: str):\n",
    "    inputs = {\"messages\": [(\"human\", user_input)]}\n",
    "\n",
    "    async for event in graph.astream_events(inputs, version=\"v2\"):\n",
    "        if (event[\"event\"] == \"on_chat_model_stream\"):\n",
    "            # Print the content of the chunk progressively\n",
    "            print(event[\"data\"][\"chunk\"].content, end=\"\", flush=True)\n",
    "        elif (event[\"event\"] == \"on_tool_start\"  ):\n",
    "            print(\"\\n--\")\n",
    "            print(f\"Calling tool: {event['name']} with inputs: {event['data'].get('input')}\")\n",
    "            print(\"--\")"
   ]
  },
  {
   "cell_type": "code",
   "execution_count": 14,
   "id": "d01f6876-6a65-44aa-a68f-f105bd86d529",
   "metadata": {
    "tags": []
   },
   "outputs": [
    {
     "name": "stdout",
     "output_type": "stream",
     "text": [
      "\n",
      "--\n",
      "Calling tool: WebSearcher with inputs: {'query': 'average cost of 7 day family vacation to Greece for 4 in summer including travel, lodging, food'}\n",
      "--\n",
      "\n",
      "--\n",
      "Calling tool: WebSearcher with inputs: {'query': 'average cost of 7 day family vacation to Greece for 4 in summer including travel, lodging, food site:www.reddit.com'}\n",
      "--\n",
      "\n",
      "--\n",
      "Calling tool: WebSearcher with inputs: {'query': 'average cost of 7 day family vacation to Greece for 4 in summer including travel, lodging, food site:www.budgetyourtrip.com'}\n",
      "--\n",
      "\n",
      "--\n",
      "Calling tool: WebFetcher with inputs: {'url': 'https://www.budgetyourtrip.com/greece'}\n",
      "--\n",
      "\n",
      "--\n",
      "Calling tool: WebFetcher with inputs: {'url': 'https://www.reddit.com/r/GreeceTravel/comments/17nw9gs/rough_cost_estimate_7_days_in_greece/'}\n",
      "--\n",
      "Here’s a detailed estimate for a 7-day summer vacation to Greece for a family of 4, including travel, lodging, and food:\n",
      "\n",
      "**1. Flights/Travel:**  \n",
      "- Average round-trip flights to Greece in summer are about USD 1,500 per person, so for 4 people: **USD 6,000** (this can vary based on your location and how early you book) [[2]](https://www.reddit.com/r/GreeceTravel/comments/17nw9gs/rough_cost_estimate_7_days_in_greece/).\n",
      "\n",
      "**2. Lodging:**  \n",
      "- A mid-range hotel room in Greece averages about USD 198 per night for two people, so for a family of 4 you’ll likely need two rooms or a family suite.  \n",
      "- For 7 nights: USD 198 x 2 rooms x 7 nights = **USD 2,772**  \n",
      "  (You might find family suites or apartments for less, especially if you book early or use vacation rentals.) [[1]](https://www.budgetyourtrip.com/greece)\n",
      "\n",
      "**3. Food:**  \n",
      "- Average daily food cost per person is about USD 93. For 4 people, 7 days: USD 93 x 4 x 7 = **USD 2,604** [[1]](https://www.budgetyourtrip.com/greece).\n",
      "\n",
      "**4. Local Transportation & Activities:**  \n",
      "- Local transportation and sightseeing/activities can add approximately USD 77 per person per day (USD 43 transport + USD 34 activities). For 4 people, 7 days: USD 77 x 4 x 7 = **USD 2,156** [[1]](https://www.budgetyourtrip.com/greece).\n",
      "\n",
      "---\n",
      "\n",
      "### **Estimated Total Budget for 7 Days:**\n",
      "- **Flights:** USD 6,000\n",
      "- **Lodging:** USD 2,772\n",
      "- **Food:** USD 2,604\n",
      "- **Local transport & activities:** USD 2,156\n",
      "- **Total:** **USD 13,532**\n",
      "\n",
      "---\n",
      "\n",
      "### **Notes:**\n",
      "- You can reduce costs by staying in apartments, eating at less expensive restaurants, or traveling in the shoulder season.\n",
      "- If you opt for luxury hotels, expensive islands (Santorini, Mykonos), or high-end dining, expect the budget to increase.\n",
      "- These are average estimates and actual costs can vary depending on your choices and travel dates.\n",
      "\n",
      "**Sources:**  \n",
      "- Budget Your Trip (comprehensive breakdown of costs) [[1]](https://www.budgetyourtrip.com/greece)  \n",
      "- Reddit Greece Travel (real traveler estimates) [[2]](https://www.reddit.com/r/GreeceTravel/comments/17nw9gs/rough_cost_estimate_7_days_in_greece/)\n",
      "\n",
      "Let me know if you want a budget for a different travel style (budget, luxury, etc.) or for specific destinations within Greece!"
     ]
    }
   ],
   "source": [
    "await stream_graph_updates_async(graph, QUESTION)"
   ]
  },
  {
   "cell_type": "markdown",
   "id": "25d49f6e-73eb-4513-9341-fcad5e5e33e6",
   "metadata": {},
   "source": [
    "#### Without showing the intermedite steps, just the final answer"
   ]
  },
  {
   "cell_type": "code",
   "execution_count": 15,
   "id": "ca910f71-60fb-4758-b4a9-757e37eb421f",
   "metadata": {
    "tags": []
   },
   "outputs": [],
   "source": [
    "QUESTION = \"How much is 50 USD in Euros and is it enough for an average hotel in Madrid?\"\n",
    "\n",
    "try:\n",
    "    response = graph.invoke({\"messages\": [(\"human\", QUESTION)]})\n",
    "except Exception as e:\n",
    "    response = str(e)"
   ]
  },
  {
   "cell_type": "code",
   "execution_count": 16,
   "id": "25a410b2-9950-43f5-8f14-b333bdc24ff2",
   "metadata": {
    "tags": []
   },
   "outputs": [
    {
     "data": {
      "text/markdown": [
       "- 50 USD is approximately 42.80 EUR according to both Wise and Xe currency converters[[1]](https://wise.com/us/currency-converter/usd-to-eur-rate?amount=50)[[2]](https://www.xe.com/currencyconverter/convert/?Amount=50&From=USD&To=EUR).\n",
       "- The average hotel price per night in Madrid is around 94 USD (about 80 EUR), with even 1-star hotels averaging about 72 USD (about 62 EUR) per night[[3]](https://www.budgetyourtrip.com/hotels/spain/madrid-3117735)[[4]](https://www.booking.com/city/es/madrid.html).\n",
       "\n",
       "**Conclusion:**  \n",
       "42.80 EUR is generally not enough for an average hotel night in Madrid, as most options are significantly more expensive per night. You may find very basic or hostel-style accommodations at this price, but not a typical hotel."
      ],
      "text/plain": [
       "<IPython.core.display.Markdown object>"
      ]
     },
     "metadata": {},
     "output_type": "display_data"
    }
   ],
   "source": [
    "printmd(response[\"messages\"][-1].content)"
   ]
  },
  {
   "cell_type": "markdown",
   "id": "e9ba3e35-8021-4262-8494-d1aee3862f7e",
   "metadata": {},
   "source": [
    "## QnA to specific websites\n",
    "\n",
    "There are several use cases where we want the smart bot to answer questions about a specific company's public website. There are two approaches we can take:\n",
    "\n",
    "1. Create a crawler script that runs regularly, finds every page on the website, and pushes the documents to Azure AI Search.\n",
    "2. Since Google has likely already indexed the public website, we can utilize our search tools targeted specifically to that site, rather than attempting to index the site ourselves and duplicate the work already done by Google's crawler.\n",
    "\n",
    "Below are some sample questions related to specific sites. Take a look:"
   ]
  },
  {
   "cell_type": "code",
   "execution_count": 17,
   "id": "e925ee4a-d295-4815-9e8c-bd6999f48892",
   "metadata": {
    "tags": []
   },
   "outputs": [],
   "source": [
    "QUESTION = \"information on how to deal with wasps in homedepot.com\"\n",
    "# QUESTION = \"in target.com, find how what's the price of a Nesspresso coffee machine and of a Keurig coffee machine\"\n",
    "# QUESTION = \"in microsoft.com, find out what is the latests news on quantum computing\"\n"
   ]
  },
  {
   "cell_type": "code",
   "execution_count": 18,
   "id": "1f7c4e6d-03a8-47f8-b859-f7b397981a6d",
   "metadata": {
    "tags": []
   },
   "outputs": [
    {
     "name": "stdout",
     "output_type": "stream",
     "text": [
      "\n",
      "--\n",
      "Calling tool: WebSearcher with inputs: {'query': 'how to deal with wasps site:homedepot.com'}\n",
      "--\n",
      "\n",
      "--\n",
      "Calling tool: WebSearcher with inputs: {'query': 'deal with wasps site:homedepot.com'}\n",
      "--\n",
      "\n",
      "--\n",
      "Calling tool: WebSearcher with inputs: {'query': 'wasp control site:homedepot.com'}\n",
      "--\n",
      "\n",
      "--\n",
      "Calling tool: WebFetcher with inputs: {'url': 'https://www.homedepot.com/c/ab/how-to-get-rid-of-wasps/9ba683603be9fa5395fab902235eb1c'}\n",
      "--\n",
      "\n",
      "--\n",
      "Calling tool: WebFetcher with inputs: {'url': 'https://www.homedepot.com/b/Outdoors-Garden-Center-Pest-Control/Wasp/N-5yc1vZbx4wZ1z1tsfk'}\n",
      "--\n",
      "To deal with wasps, Home Depot provides a comprehensive guide and a variety of products:\n",
      "\n",
      "**Key Steps to Deal with Wasps:**\n",
      "1. **Identify the Nest Location:** Wasp nests may be found on roof edges, sheds, garages, trees, or even inside walls.\n",
      "2. **Use Sprays or Baits:** Sprays are effective for individual wasps, while baited traps help with larger populations. Always use wasp sprays and traps according to the manufacturer’s instructions.\n",
      "3. **Do Not Remove Nests Yourself:** Never try to knock down, burn, or spray water on a wasp nest. If the nest is in a hard-to-reach or dangerous location (like inside walls or underground), consult a professional exterminator.\n",
      "4. **Safety Precautions:** When approaching a nest, do so at dusk or dawn when wasps are less active. Protect your eyes and face, and use a red-filtered flashlight if needed.\n",
      "5. **Avoid Provoking Wasps:** Do not make sudden movements or wear strong scents or bright, floral clothing near wasps.\n",
      "6. **Treating Stings:** Wash the area, apply ice, and use antihistamines or calamine lotion for swelling and itching. Seek medical attention for severe reactions or if stung in the mouth/throat.\n",
      "\n",
      "**Products Available at Home Depot:**\n",
      "- Wasp and hornet aerosol sprays (e.g., Spectracide, Raid)\n",
      "- Baited wasp traps (e.g., RESCUE TrapStik)\n",
      "- Outdoor foggers\n",
      "- Natural plant-based wasp sprays\n",
      "\n",
      "For more details and a full list of recommended products, visit Home Depot’s wasp control section and their guide on how to get rid of wasps[[1]](https://www.homedepot.com/c/ab/how-to-get-rid-of-wasps/9ba683603be9fa5395fab902235eb1c)[[2]](https://www.homedepot.com/b/Outdoors-Garden-Center-Pest-Control/Wasp/N-5yc1vZbx4wZ1z1tsfk).\n",
      "\n",
      "**Summary:**  \n",
      "- Use wasp sprays and traps as a first line of defense.\n",
      "- Never remove a nest yourself if it’s in a dangerous location.\n",
      "- Follow safety precautions to avoid stings.\n",
      "- Home Depot offers a range of wasp control products and detailed guides for safe removal and prevention."
     ]
    }
   ],
   "source": [
    "await stream_graph_updates_async(graph, QUESTION)"
   ]
  },
  {
   "cell_type": "markdown",
   "id": "56cbc405-26e2-471e-9626-2a0df07f5ddc",
   "metadata": {},
   "source": [
    "# Summary"
   ]
  },
  {
   "cell_type": "markdown",
   "id": "7381ea5f-7269-4e1f-8b0c-1e2c04bd84c0",
   "metadata": {},
   "source": [
    "In this notebook, we learned how to create a Copilot clone using a clever prompt with specific search and formatting instructions and a couple of web searching tools.   \n",
    "\n",
    "The outcome is an agent capable of conducting intelligent web searches and performing research on our behalf. This agent provides us with answers to our questions along with appropriate URL citations and links!"
   ]
  },
  {
   "cell_type": "markdown",
   "id": "02073623-91b4-40d6-8eaf-cb6d9c6a7a9a",
   "metadata": {},
   "source": [
    "# NEXT\n",
    "\n",
    "What about if the information needed to answer the human is behind an API?\n",
    "Next Notebook teach us how to do this."
   ]
  },
  {
   "cell_type": "code",
   "execution_count": null,
   "id": "44adf1ce-cb34-41dc-a7bc-ab73d64a5dc3",
   "metadata": {},
   "outputs": [],
   "source": []
  }
 ],
 "metadata": {
  "kernelspec": {
   "display_name": "RAGAgents (Python 3.12)",
   "language": "python",
   "name": "ragagents"
  },
  "language_info": {
   "codemirror_mode": {
    "name": "ipython",
    "version": 3
   },
   "file_extension": ".py",
   "mimetype": "text/x-python",
   "name": "python",
   "nbconvert_exporter": "python",
   "pygments_lexer": "ipython3",
   "version": "3.12.11"
  }
 },
 "nbformat": 4,
 "nbformat_minor": 5
}
